{
 "cells": [
  {
   "cell_type": "markdown",
   "metadata": {},
   "source": [
    "# COVID DATAANALYSIS"
   ]
  },
  {
   "cell_type": "code",
   "execution_count": 1,
   "metadata": {},
   "outputs": [],
   "source": [
    "# You may need to install wget first. \n",
    "# Do 'pip install wget' in anaconda prompt.\n",
    "import wget\n",
    "import numpy as np\n",
    "import pandas as pd\n",
    "import matplotlib.pyplot as plt\n",
    "%matplotlib inline"
   ]
  },
  {
   "cell_type": "code",
   "execution_count": 2,
   "metadata": {},
   "outputs": [
    {
     "name": "stdout",
     "output_type": "stream",
     "text": [
      "100% [..............................................................................] 39636 / 39636"
     ]
    }
   ],
   "source": [
    "death=wget.download('https://covid.ourworldindata.org/data/ecdc/total_deaths.csv')\n",
    "cases=wget.download('https://covid.ourworldindata.org/data/ecdc/total_cases.csv')"
   ]
  },
  {
   "cell_type": "code",
   "execution_count": 3,
   "metadata": {},
   "outputs": [],
   "source": [
    "df_deaths=pd.read_csv(death,index_col='date')\n",
    "df_cases=pd.read_csv(cases,index_col='date')"
   ]
  },
  {
   "cell_type": "code",
   "execution_count": 24,
   "metadata": {},
   "outputs": [
    {
     "data": {
      "text/html": [
       "<div>\n",
       "<style scoped>\n",
       "    .dataframe tbody tr th:only-of-type {\n",
       "        vertical-align: middle;\n",
       "    }\n",
       "\n",
       "    .dataframe tbody tr th {\n",
       "        vertical-align: top;\n",
       "    }\n",
       "\n",
       "    .dataframe thead th {\n",
       "        text-align: right;\n",
       "    }\n",
       "</style>\n",
       "<table border=\"1\" class=\"dataframe\">\n",
       "  <thead>\n",
       "    <tr style=\"text-align: right;\">\n",
       "      <th></th>\n",
       "      <th>World</th>\n",
       "      <th>Afghanistan</th>\n",
       "      <th>Albania</th>\n",
       "      <th>Algeria</th>\n",
       "      <th>Andorra</th>\n",
       "      <th>Angola</th>\n",
       "      <th>Anguilla</th>\n",
       "      <th>Antigua and Barbuda</th>\n",
       "      <th>Argentina</th>\n",
       "      <th>Armenia</th>\n",
       "      <th>...</th>\n",
       "      <th>United States</th>\n",
       "      <th>United States Virgin Islands</th>\n",
       "      <th>Uruguay</th>\n",
       "      <th>Uzbekistan</th>\n",
       "      <th>Vatican</th>\n",
       "      <th>Venezuela</th>\n",
       "      <th>Vietnam</th>\n",
       "      <th>Zambia</th>\n",
       "      <th>Zimbabwe</th>\n",
       "      <th>days</th>\n",
       "    </tr>\n",
       "    <tr>\n",
       "      <th>date</th>\n",
       "      <th></th>\n",
       "      <th></th>\n",
       "      <th></th>\n",
       "      <th></th>\n",
       "      <th></th>\n",
       "      <th></th>\n",
       "      <th></th>\n",
       "      <th></th>\n",
       "      <th></th>\n",
       "      <th></th>\n",
       "      <th></th>\n",
       "      <th></th>\n",
       "      <th></th>\n",
       "      <th></th>\n",
       "      <th></th>\n",
       "      <th></th>\n",
       "      <th></th>\n",
       "      <th></th>\n",
       "      <th></th>\n",
       "      <th></th>\n",
       "      <th></th>\n",
       "    </tr>\n",
       "  </thead>\n",
       "  <tbody>\n",
       "    <tr>\n",
       "      <th>2020-04-01</th>\n",
       "      <td>41885</td>\n",
       "      <td>4.0</td>\n",
       "      <td>15.0</td>\n",
       "      <td>35.0</td>\n",
       "      <td>12.0</td>\n",
       "      <td>2.0</td>\n",
       "      <td>0.0</td>\n",
       "      <td>0.0</td>\n",
       "      <td>24.0</td>\n",
       "      <td>3.0</td>\n",
       "      <td>...</td>\n",
       "      <td>4079</td>\n",
       "      <td>0.0</td>\n",
       "      <td>1.0</td>\n",
       "      <td>2.0</td>\n",
       "      <td>0.0</td>\n",
       "      <td>3.0</td>\n",
       "      <td>0.0</td>\n",
       "      <td>0.0</td>\n",
       "      <td>1.0</td>\n",
       "      <td>92.0</td>\n",
       "    </tr>\n",
       "    <tr>\n",
       "      <th>2020-04-02</th>\n",
       "      <td>46883</td>\n",
       "      <td>4.0</td>\n",
       "      <td>15.0</td>\n",
       "      <td>58.0</td>\n",
       "      <td>14.0</td>\n",
       "      <td>2.0</td>\n",
       "      <td>0.0</td>\n",
       "      <td>0.0</td>\n",
       "      <td>31.0</td>\n",
       "      <td>3.0</td>\n",
       "      <td>...</td>\n",
       "      <td>5138</td>\n",
       "      <td>0.0</td>\n",
       "      <td>2.0</td>\n",
       "      <td>2.0</td>\n",
       "      <td>0.0</td>\n",
       "      <td>3.0</td>\n",
       "      <td>0.0</td>\n",
       "      <td>0.0</td>\n",
       "      <td>1.0</td>\n",
       "      <td>93.0</td>\n",
       "    </tr>\n",
       "    <tr>\n",
       "      <th>2020-04-03</th>\n",
       "      <td>51514</td>\n",
       "      <td>4.0</td>\n",
       "      <td>16.0</td>\n",
       "      <td>58.0</td>\n",
       "      <td>15.0</td>\n",
       "      <td>2.0</td>\n",
       "      <td>0.0</td>\n",
       "      <td>0.0</td>\n",
       "      <td>34.0</td>\n",
       "      <td>4.0</td>\n",
       "      <td>...</td>\n",
       "      <td>6053</td>\n",
       "      <td>0.0</td>\n",
       "      <td>4.0</td>\n",
       "      <td>2.0</td>\n",
       "      <td>0.0</td>\n",
       "      <td>3.0</td>\n",
       "      <td>0.0</td>\n",
       "      <td>1.0</td>\n",
       "      <td>1.0</td>\n",
       "      <td>94.0</td>\n",
       "    </tr>\n",
       "    <tr>\n",
       "      <th>2020-04-04</th>\n",
       "      <td>58141</td>\n",
       "      <td>4.0</td>\n",
       "      <td>17.0</td>\n",
       "      <td>83.0</td>\n",
       "      <td>16.0</td>\n",
       "      <td>2.0</td>\n",
       "      <td>0.0</td>\n",
       "      <td>0.0</td>\n",
       "      <td>37.0</td>\n",
       "      <td>7.0</td>\n",
       "      <td>...</td>\n",
       "      <td>7157</td>\n",
       "      <td>0.0</td>\n",
       "      <td>4.0</td>\n",
       "      <td>2.0</td>\n",
       "      <td>0.0</td>\n",
       "      <td>3.0</td>\n",
       "      <td>0.0</td>\n",
       "      <td>1.0</td>\n",
       "      <td>1.0</td>\n",
       "      <td>95.0</td>\n",
       "    </tr>\n",
       "    <tr>\n",
       "      <th>2020-04-05</th>\n",
       "      <td>64400</td>\n",
       "      <td>5.0</td>\n",
       "      <td>19.0</td>\n",
       "      <td>130.0</td>\n",
       "      <td>17.0</td>\n",
       "      <td>2.0</td>\n",
       "      <td>0.0</td>\n",
       "      <td>0.0</td>\n",
       "      <td>43.0</td>\n",
       "      <td>7.0</td>\n",
       "      <td>...</td>\n",
       "      <td>8501</td>\n",
       "      <td>0.0</td>\n",
       "      <td>5.0</td>\n",
       "      <td>2.0</td>\n",
       "      <td>0.0</td>\n",
       "      <td>5.0</td>\n",
       "      <td>0.0</td>\n",
       "      <td>1.0</td>\n",
       "      <td>1.0</td>\n",
       "      <td>96.0</td>\n",
       "    </tr>\n",
       "  </tbody>\n",
       "</table>\n",
       "<p>5 rows × 206 columns</p>\n",
       "</div>"
      ],
      "text/plain": [
       "            World  Afghanistan  Albania  Algeria  Andorra  Angola  Anguilla  \\\n",
       "date                                                                          \n",
       "2020-04-01  41885          4.0     15.0     35.0     12.0     2.0       0.0   \n",
       "2020-04-02  46883          4.0     15.0     58.0     14.0     2.0       0.0   \n",
       "2020-04-03  51514          4.0     16.0     58.0     15.0     2.0       0.0   \n",
       "2020-04-04  58141          4.0     17.0     83.0     16.0     2.0       0.0   \n",
       "2020-04-05  64400          5.0     19.0    130.0     17.0     2.0       0.0   \n",
       "\n",
       "            Antigua and Barbuda  Argentina  Armenia  ...  United States  \\\n",
       "date                                                 ...                  \n",
       "2020-04-01                  0.0       24.0      3.0  ...           4079   \n",
       "2020-04-02                  0.0       31.0      3.0  ...           5138   \n",
       "2020-04-03                  0.0       34.0      4.0  ...           6053   \n",
       "2020-04-04                  0.0       37.0      7.0  ...           7157   \n",
       "2020-04-05                  0.0       43.0      7.0  ...           8501   \n",
       "\n",
       "            United States Virgin Islands  Uruguay  Uzbekistan  Vatican  \\\n",
       "date                                                                     \n",
       "2020-04-01                           0.0      1.0         2.0      0.0   \n",
       "2020-04-02                           0.0      2.0         2.0      0.0   \n",
       "2020-04-03                           0.0      4.0         2.0      0.0   \n",
       "2020-04-04                           0.0      4.0         2.0      0.0   \n",
       "2020-04-05                           0.0      5.0         2.0      0.0   \n",
       "\n",
       "            Venezuela  Vietnam  Zambia  Zimbabwe  days  \n",
       "date                                                    \n",
       "2020-04-01        3.0      0.0     0.0       1.0  92.0  \n",
       "2020-04-02        3.0      0.0     0.0       1.0  93.0  \n",
       "2020-04-03        3.0      0.0     1.0       1.0  94.0  \n",
       "2020-04-04        3.0      0.0     1.0       1.0  95.0  \n",
       "2020-04-05        5.0      0.0     1.0       1.0  96.0  \n",
       "\n",
       "[5 rows x 206 columns]"
      ]
     },
     "execution_count": 24,
     "metadata": {},
     "output_type": "execute_result"
    }
   ],
   "source": [
    "df_deaths.tail()"
   ]
  },
  {
   "cell_type": "code",
   "execution_count": 5,
   "metadata": {},
   "outputs": [
    {
     "data": {
      "text/plain": [
       "dtype('O')"
      ]
     },
     "execution_count": 5,
     "metadata": {},
     "output_type": "execute_result"
    }
   ],
   "source": [
    "df_cases.index.dtype\n"
   ]
  },
  {
   "cell_type": "code",
   "execution_count": 6,
   "metadata": {},
   "outputs": [
    {
     "data": {
      "text/html": [
       "<div>\n",
       "<style scoped>\n",
       "    .dataframe tbody tr th:only-of-type {\n",
       "        vertical-align: middle;\n",
       "    }\n",
       "\n",
       "    .dataframe tbody tr th {\n",
       "        vertical-align: top;\n",
       "    }\n",
       "\n",
       "    .dataframe thead th {\n",
       "        text-align: right;\n",
       "    }\n",
       "</style>\n",
       "<table border=\"1\" class=\"dataframe\">\n",
       "  <thead>\n",
       "    <tr style=\"text-align: right;\">\n",
       "      <th></th>\n",
       "      <th>World</th>\n",
       "      <th>Afghanistan</th>\n",
       "      <th>Albania</th>\n",
       "      <th>Algeria</th>\n",
       "      <th>Andorra</th>\n",
       "      <th>Angola</th>\n",
       "      <th>Anguilla</th>\n",
       "      <th>Antigua and Barbuda</th>\n",
       "      <th>Argentina</th>\n",
       "      <th>Armenia</th>\n",
       "      <th>...</th>\n",
       "      <th>United Kingdom</th>\n",
       "      <th>United States</th>\n",
       "      <th>United States Virgin Islands</th>\n",
       "      <th>Uruguay</th>\n",
       "      <th>Uzbekistan</th>\n",
       "      <th>Vatican</th>\n",
       "      <th>Venezuela</th>\n",
       "      <th>Vietnam</th>\n",
       "      <th>Zambia</th>\n",
       "      <th>Zimbabwe</th>\n",
       "    </tr>\n",
       "    <tr>\n",
       "      <th>date</th>\n",
       "      <th></th>\n",
       "      <th></th>\n",
       "      <th></th>\n",
       "      <th></th>\n",
       "      <th></th>\n",
       "      <th></th>\n",
       "      <th></th>\n",
       "      <th></th>\n",
       "      <th></th>\n",
       "      <th></th>\n",
       "      <th></th>\n",
       "      <th></th>\n",
       "      <th></th>\n",
       "      <th></th>\n",
       "      <th></th>\n",
       "      <th></th>\n",
       "      <th></th>\n",
       "      <th></th>\n",
       "      <th></th>\n",
       "      <th></th>\n",
       "      <th></th>\n",
       "    </tr>\n",
       "  </thead>\n",
       "  <tbody>\n",
       "    <tr>\n",
       "      <th>2019-12-31</th>\n",
       "      <td>27</td>\n",
       "      <td>0.0</td>\n",
       "      <td>NaN</td>\n",
       "      <td>0.0</td>\n",
       "      <td>NaN</td>\n",
       "      <td>NaN</td>\n",
       "      <td>NaN</td>\n",
       "      <td>NaN</td>\n",
       "      <td>NaN</td>\n",
       "      <td>0.0</td>\n",
       "      <td>...</td>\n",
       "      <td>0</td>\n",
       "      <td>0</td>\n",
       "      <td>NaN</td>\n",
       "      <td>NaN</td>\n",
       "      <td>NaN</td>\n",
       "      <td>NaN</td>\n",
       "      <td>NaN</td>\n",
       "      <td>0.0</td>\n",
       "      <td>NaN</td>\n",
       "      <td>NaN</td>\n",
       "    </tr>\n",
       "    <tr>\n",
       "      <th>2020-01-01</th>\n",
       "      <td>27</td>\n",
       "      <td>0.0</td>\n",
       "      <td>NaN</td>\n",
       "      <td>0.0</td>\n",
       "      <td>NaN</td>\n",
       "      <td>NaN</td>\n",
       "      <td>NaN</td>\n",
       "      <td>NaN</td>\n",
       "      <td>NaN</td>\n",
       "      <td>0.0</td>\n",
       "      <td>...</td>\n",
       "      <td>0</td>\n",
       "      <td>0</td>\n",
       "      <td>NaN</td>\n",
       "      <td>NaN</td>\n",
       "      <td>NaN</td>\n",
       "      <td>NaN</td>\n",
       "      <td>NaN</td>\n",
       "      <td>0.0</td>\n",
       "      <td>NaN</td>\n",
       "      <td>NaN</td>\n",
       "    </tr>\n",
       "    <tr>\n",
       "      <th>2020-01-02</th>\n",
       "      <td>27</td>\n",
       "      <td>0.0</td>\n",
       "      <td>NaN</td>\n",
       "      <td>0.0</td>\n",
       "      <td>NaN</td>\n",
       "      <td>NaN</td>\n",
       "      <td>NaN</td>\n",
       "      <td>NaN</td>\n",
       "      <td>NaN</td>\n",
       "      <td>0.0</td>\n",
       "      <td>...</td>\n",
       "      <td>0</td>\n",
       "      <td>0</td>\n",
       "      <td>NaN</td>\n",
       "      <td>NaN</td>\n",
       "      <td>NaN</td>\n",
       "      <td>NaN</td>\n",
       "      <td>NaN</td>\n",
       "      <td>0.0</td>\n",
       "      <td>NaN</td>\n",
       "      <td>NaN</td>\n",
       "    </tr>\n",
       "    <tr>\n",
       "      <th>2020-01-03</th>\n",
       "      <td>44</td>\n",
       "      <td>0.0</td>\n",
       "      <td>NaN</td>\n",
       "      <td>0.0</td>\n",
       "      <td>NaN</td>\n",
       "      <td>NaN</td>\n",
       "      <td>NaN</td>\n",
       "      <td>NaN</td>\n",
       "      <td>NaN</td>\n",
       "      <td>0.0</td>\n",
       "      <td>...</td>\n",
       "      <td>0</td>\n",
       "      <td>0</td>\n",
       "      <td>NaN</td>\n",
       "      <td>NaN</td>\n",
       "      <td>NaN</td>\n",
       "      <td>NaN</td>\n",
       "      <td>NaN</td>\n",
       "      <td>0.0</td>\n",
       "      <td>NaN</td>\n",
       "      <td>NaN</td>\n",
       "    </tr>\n",
       "    <tr>\n",
       "      <th>2020-01-04</th>\n",
       "      <td>44</td>\n",
       "      <td>0.0</td>\n",
       "      <td>NaN</td>\n",
       "      <td>0.0</td>\n",
       "      <td>NaN</td>\n",
       "      <td>NaN</td>\n",
       "      <td>NaN</td>\n",
       "      <td>NaN</td>\n",
       "      <td>NaN</td>\n",
       "      <td>0.0</td>\n",
       "      <td>...</td>\n",
       "      <td>0</td>\n",
       "      <td>0</td>\n",
       "      <td>NaN</td>\n",
       "      <td>NaN</td>\n",
       "      <td>NaN</td>\n",
       "      <td>NaN</td>\n",
       "      <td>NaN</td>\n",
       "      <td>0.0</td>\n",
       "      <td>NaN</td>\n",
       "      <td>NaN</td>\n",
       "    </tr>\n",
       "  </tbody>\n",
       "</table>\n",
       "<p>5 rows × 205 columns</p>\n",
       "</div>"
      ],
      "text/plain": [
       "            World  Afghanistan  Albania  Algeria  Andorra  Angola  Anguilla  \\\n",
       "date                                                                          \n",
       "2019-12-31     27          0.0      NaN      0.0      NaN     NaN       NaN   \n",
       "2020-01-01     27          0.0      NaN      0.0      NaN     NaN       NaN   \n",
       "2020-01-02     27          0.0      NaN      0.0      NaN     NaN       NaN   \n",
       "2020-01-03     44          0.0      NaN      0.0      NaN     NaN       NaN   \n",
       "2020-01-04     44          0.0      NaN      0.0      NaN     NaN       NaN   \n",
       "\n",
       "            Antigua and Barbuda  Argentina  Armenia  ...  United Kingdom  \\\n",
       "date                                                 ...                   \n",
       "2019-12-31                  NaN        NaN      0.0  ...               0   \n",
       "2020-01-01                  NaN        NaN      0.0  ...               0   \n",
       "2020-01-02                  NaN        NaN      0.0  ...               0   \n",
       "2020-01-03                  NaN        NaN      0.0  ...               0   \n",
       "2020-01-04                  NaN        NaN      0.0  ...               0   \n",
       "\n",
       "            United States  United States Virgin Islands  Uruguay  Uzbekistan  \\\n",
       "date                                                                           \n",
       "2019-12-31              0                           NaN      NaN         NaN   \n",
       "2020-01-01              0                           NaN      NaN         NaN   \n",
       "2020-01-02              0                           NaN      NaN         NaN   \n",
       "2020-01-03              0                           NaN      NaN         NaN   \n",
       "2020-01-04              0                           NaN      NaN         NaN   \n",
       "\n",
       "            Vatican  Venezuela  Vietnam  Zambia  Zimbabwe  \n",
       "date                                                       \n",
       "2019-12-31      NaN        NaN      0.0     NaN       NaN  \n",
       "2020-01-01      NaN        NaN      0.0     NaN       NaN  \n",
       "2020-01-02      NaN        NaN      0.0     NaN       NaN  \n",
       "2020-01-03      NaN        NaN      0.0     NaN       NaN  \n",
       "2020-01-04      NaN        NaN      0.0     NaN       NaN  \n",
       "\n",
       "[5 rows x 205 columns]"
      ]
     },
     "execution_count": 6,
     "metadata": {},
     "output_type": "execute_result"
    }
   ],
   "source": [
    "df_cases.head()"
   ]
  },
  {
   "cell_type": "code",
   "execution_count": 7,
   "metadata": {},
   "outputs": [
    {
     "data": {
      "text/plain": [
       "['China']"
      ]
     },
     "execution_count": 7,
     "metadata": {},
     "output_type": "execute_result"
    }
   ],
   "source": [
    "listy=df_cases.columns\n",
    "matches = [x for x in listy if x=='China']\n",
    "matches"
   ]
  },
  {
   "cell_type": "code",
   "execution_count": 8,
   "metadata": {},
   "outputs": [
    {
     "name": "stdout",
     "output_type": "stream",
     "text": [
      "object\n",
      "datetime64[ns]\n"
     ]
    }
   ],
   "source": [
    "print (df_cases.index.dtype)\n",
    "#looks like index is not datetime!\n",
    "df_cases.index = pd.to_datetime(df_cases.index)\n",
    "df_deaths.index = pd.to_datetime(df_deaths.index)\n",
    "print (df_cases.index.dtype)"
   ]
  },
  {
   "cell_type": "code",
   "execution_count": 9,
   "metadata": {},
   "outputs": [
    {
     "data": {
      "text/html": [
       "<div>\n",
       "<style scoped>\n",
       "    .dataframe tbody tr th:only-of-type {\n",
       "        vertical-align: middle;\n",
       "    }\n",
       "\n",
       "    .dataframe tbody tr th {\n",
       "        vertical-align: top;\n",
       "    }\n",
       "\n",
       "    .dataframe thead th {\n",
       "        text-align: right;\n",
       "    }\n",
       "</style>\n",
       "<table border=\"1\" class=\"dataframe\">\n",
       "  <thead>\n",
       "    <tr style=\"text-align: right;\">\n",
       "      <th></th>\n",
       "      <th>World</th>\n",
       "      <th>Afghanistan</th>\n",
       "      <th>Albania</th>\n",
       "      <th>Algeria</th>\n",
       "      <th>Andorra</th>\n",
       "      <th>Angola</th>\n",
       "      <th>Anguilla</th>\n",
       "      <th>Antigua and Barbuda</th>\n",
       "      <th>Argentina</th>\n",
       "      <th>Armenia</th>\n",
       "      <th>...</th>\n",
       "      <th>United States</th>\n",
       "      <th>United States Virgin Islands</th>\n",
       "      <th>Uruguay</th>\n",
       "      <th>Uzbekistan</th>\n",
       "      <th>Vatican</th>\n",
       "      <th>Venezuela</th>\n",
       "      <th>Vietnam</th>\n",
       "      <th>Zambia</th>\n",
       "      <th>Zimbabwe</th>\n",
       "      <th>days</th>\n",
       "    </tr>\n",
       "    <tr>\n",
       "      <th>date</th>\n",
       "      <th></th>\n",
       "      <th></th>\n",
       "      <th></th>\n",
       "      <th></th>\n",
       "      <th></th>\n",
       "      <th></th>\n",
       "      <th></th>\n",
       "      <th></th>\n",
       "      <th></th>\n",
       "      <th></th>\n",
       "      <th></th>\n",
       "      <th></th>\n",
       "      <th></th>\n",
       "      <th></th>\n",
       "      <th></th>\n",
       "      <th></th>\n",
       "      <th></th>\n",
       "      <th></th>\n",
       "      <th></th>\n",
       "      <th></th>\n",
       "      <th></th>\n",
       "    </tr>\n",
       "  </thead>\n",
       "  <tbody>\n",
       "    <tr>\n",
       "      <th>2019-12-31</th>\n",
       "      <td>0</td>\n",
       "      <td>0.0</td>\n",
       "      <td>NaN</td>\n",
       "      <td>0.0</td>\n",
       "      <td>NaN</td>\n",
       "      <td>NaN</td>\n",
       "      <td>NaN</td>\n",
       "      <td>NaN</td>\n",
       "      <td>NaN</td>\n",
       "      <td>0.0</td>\n",
       "      <td>...</td>\n",
       "      <td>0</td>\n",
       "      <td>NaN</td>\n",
       "      <td>NaN</td>\n",
       "      <td>NaN</td>\n",
       "      <td>NaN</td>\n",
       "      <td>NaN</td>\n",
       "      <td>0.0</td>\n",
       "      <td>NaN</td>\n",
       "      <td>NaN</td>\n",
       "      <td>0.0</td>\n",
       "    </tr>\n",
       "    <tr>\n",
       "      <th>2020-01-01</th>\n",
       "      <td>0</td>\n",
       "      <td>0.0</td>\n",
       "      <td>NaN</td>\n",
       "      <td>0.0</td>\n",
       "      <td>NaN</td>\n",
       "      <td>NaN</td>\n",
       "      <td>NaN</td>\n",
       "      <td>NaN</td>\n",
       "      <td>NaN</td>\n",
       "      <td>0.0</td>\n",
       "      <td>...</td>\n",
       "      <td>0</td>\n",
       "      <td>NaN</td>\n",
       "      <td>NaN</td>\n",
       "      <td>NaN</td>\n",
       "      <td>NaN</td>\n",
       "      <td>NaN</td>\n",
       "      <td>0.0</td>\n",
       "      <td>NaN</td>\n",
       "      <td>NaN</td>\n",
       "      <td>1.0</td>\n",
       "    </tr>\n",
       "    <tr>\n",
       "      <th>2020-01-02</th>\n",
       "      <td>0</td>\n",
       "      <td>0.0</td>\n",
       "      <td>NaN</td>\n",
       "      <td>0.0</td>\n",
       "      <td>NaN</td>\n",
       "      <td>NaN</td>\n",
       "      <td>NaN</td>\n",
       "      <td>NaN</td>\n",
       "      <td>NaN</td>\n",
       "      <td>0.0</td>\n",
       "      <td>...</td>\n",
       "      <td>0</td>\n",
       "      <td>NaN</td>\n",
       "      <td>NaN</td>\n",
       "      <td>NaN</td>\n",
       "      <td>NaN</td>\n",
       "      <td>NaN</td>\n",
       "      <td>0.0</td>\n",
       "      <td>NaN</td>\n",
       "      <td>NaN</td>\n",
       "      <td>2.0</td>\n",
       "    </tr>\n",
       "    <tr>\n",
       "      <th>2020-01-03</th>\n",
       "      <td>0</td>\n",
       "      <td>0.0</td>\n",
       "      <td>NaN</td>\n",
       "      <td>0.0</td>\n",
       "      <td>NaN</td>\n",
       "      <td>NaN</td>\n",
       "      <td>NaN</td>\n",
       "      <td>NaN</td>\n",
       "      <td>NaN</td>\n",
       "      <td>0.0</td>\n",
       "      <td>...</td>\n",
       "      <td>0</td>\n",
       "      <td>NaN</td>\n",
       "      <td>NaN</td>\n",
       "      <td>NaN</td>\n",
       "      <td>NaN</td>\n",
       "      <td>NaN</td>\n",
       "      <td>0.0</td>\n",
       "      <td>NaN</td>\n",
       "      <td>NaN</td>\n",
       "      <td>3.0</td>\n",
       "    </tr>\n",
       "    <tr>\n",
       "      <th>2020-01-04</th>\n",
       "      <td>0</td>\n",
       "      <td>0.0</td>\n",
       "      <td>NaN</td>\n",
       "      <td>0.0</td>\n",
       "      <td>NaN</td>\n",
       "      <td>NaN</td>\n",
       "      <td>NaN</td>\n",
       "      <td>NaN</td>\n",
       "      <td>NaN</td>\n",
       "      <td>0.0</td>\n",
       "      <td>...</td>\n",
       "      <td>0</td>\n",
       "      <td>NaN</td>\n",
       "      <td>NaN</td>\n",
       "      <td>NaN</td>\n",
       "      <td>NaN</td>\n",
       "      <td>NaN</td>\n",
       "      <td>0.0</td>\n",
       "      <td>NaN</td>\n",
       "      <td>NaN</td>\n",
       "      <td>4.0</td>\n",
       "    </tr>\n",
       "  </tbody>\n",
       "</table>\n",
       "<p>5 rows × 206 columns</p>\n",
       "</div>"
      ],
      "text/plain": [
       "            World  Afghanistan  Albania  Algeria  Andorra  Angola  Anguilla  \\\n",
       "date                                                                          \n",
       "2019-12-31      0          0.0      NaN      0.0      NaN     NaN       NaN   \n",
       "2020-01-01      0          0.0      NaN      0.0      NaN     NaN       NaN   \n",
       "2020-01-02      0          0.0      NaN      0.0      NaN     NaN       NaN   \n",
       "2020-01-03      0          0.0      NaN      0.0      NaN     NaN       NaN   \n",
       "2020-01-04      0          0.0      NaN      0.0      NaN     NaN       NaN   \n",
       "\n",
       "            Antigua and Barbuda  Argentina  Armenia  ...  United States  \\\n",
       "date                                                 ...                  \n",
       "2019-12-31                  NaN        NaN      0.0  ...              0   \n",
       "2020-01-01                  NaN        NaN      0.0  ...              0   \n",
       "2020-01-02                  NaN        NaN      0.0  ...              0   \n",
       "2020-01-03                  NaN        NaN      0.0  ...              0   \n",
       "2020-01-04                  NaN        NaN      0.0  ...              0   \n",
       "\n",
       "            United States Virgin Islands  Uruguay  Uzbekistan  Vatican  \\\n",
       "date                                                                     \n",
       "2019-12-31                           NaN      NaN         NaN      NaN   \n",
       "2020-01-01                           NaN      NaN         NaN      NaN   \n",
       "2020-01-02                           NaN      NaN         NaN      NaN   \n",
       "2020-01-03                           NaN      NaN         NaN      NaN   \n",
       "2020-01-04                           NaN      NaN         NaN      NaN   \n",
       "\n",
       "            Venezuela  Vietnam  Zambia  Zimbabwe  days  \n",
       "date                                                    \n",
       "2019-12-31        NaN      0.0     NaN       NaN   0.0  \n",
       "2020-01-01        NaN      0.0     NaN       NaN   1.0  \n",
       "2020-01-02        NaN      0.0     NaN       NaN   2.0  \n",
       "2020-01-03        NaN      0.0     NaN       NaN   3.0  \n",
       "2020-01-04        NaN      0.0     NaN       NaN   4.0  \n",
       "\n",
       "[5 rows x 206 columns]"
      ]
     },
     "execution_count": 9,
     "metadata": {},
     "output_type": "execute_result"
    }
   ],
   "source": [
    "#Subtract date to find number of days\n",
    "df_cases['days'] = df_cases.index - df_cases.index[0]\n",
    "df_deaths['days'] = df_deaths.index - df_deaths.index[0]\n",
    "#Turns out the result is still datetime. Converting it to float below:\n",
    "df_cases['days']=df_cases['days']/np.timedelta64(1,'D')\n",
    "df_deaths['days']=df_deaths['days']/np.timedelta64(1,'D')\n",
    "df_deaths.head()"
   ]
  },
  {
   "cell_type": "code",
   "execution_count": null,
   "metadata": {},
   "outputs": [],
   "source": []
  },
  {
   "cell_type": "code",
   "execution_count": 10,
   "metadata": {},
   "outputs": [
    {
     "data": {
      "image/png": "[encoded data removed]",
      "text/plain": [
       "<Figure size 504x360 with 2 Axes>"
      ]
     },
     "metadata": {
      "needs_background": "light"
     },
     "output_type": "display_data"
    }
   ],
   "source": [
    "from matplotlib.dates import DateFormatter\n",
    "fig,ax1=plt.subplots(figsize=[7,5])\n",
    "ax1.plot(df_cases.index,df_cases.World,'b')\n",
    "ax1.set_ylabel('Cases',color='b',fontsize=15)\n",
    "ax2=ax1.twinx()\n",
    "ax2.plot(df_deaths.index,df_deaths.World,'r')\n",
    "ax2.set_ylabel('Deaths',color='r',fontsize=15)\n",
    "plt.gcf().autofmt_xdate()\n",
    "fig.tight_layout()\n",
    "plt.title('Global Data',fontsize=15)\n",
    "plt.show()"
   ]
  },
  {
   "cell_type": "code",
   "execution_count": 11,
   "metadata": {},
   "outputs": [
    {
     "name": "stdout",
     "output_type": "stream",
     "text": [
      "Pearsons correlation: 0.9958114102383886\n",
      "Spearmans correlation: 0.9989108023069362\n"
     ]
    }
   ],
   "source": [
    "#Determine correlation coeffecient\n",
    "from scipy.stats import pearsonr # used for linear variation\n",
    "from scipy.stats import spearmanr # used for nonlinear looking variation\n",
    "corr_p = pearsonr(np.array(df_cases.World),np.array(df_deaths.World))\n",
    "corr_s= spearmanr(np.array(df_cases.World),np.array(df_deaths.World))\n",
    "print('Pearsons correlation:', corr_p[0])\n",
    "print('Spearmans correlation:',corr_s[0])"
   ]
  },
  {
   "cell_type": "code",
   "execution_count": 12,
   "metadata": {},
   "outputs": [
    {
     "data": {
      "text/plain": [
       "date\n",
       "2020-01-21         1\n",
       "2020-01-22         1\n",
       "2020-01-23         1\n",
       "2020-01-24         1\n",
       "2020-01-25         2\n",
       "               ...  \n",
       "2020-04-01    189618\n",
       "2020-04-02    216721\n",
       "2020-04-03    245540\n",
       "2020-04-04    277965\n",
       "2020-04-05    312237\n",
       "Name: United States, Length: 76, dtype: int64"
      ]
     },
     "execution_count": 12,
     "metadata": {},
     "output_type": "execute_result"
    }
   ],
   "source": [
    "# Filter column when cases >0 in US\n",
    "df_cases[df_cases['United States']>0]['United States']"
   ]
  },
  {
   "cell_type": "code",
   "execution_count": 13,
   "metadata": {},
   "outputs": [
    {
     "data": {
      "image/png": "[encoded data removed]",
      "text/plain": [
       "<Figure size 576x360 with 2 Axes>"
      ]
     },
     "metadata": {
      "needs_background": "light"
     },
     "output_type": "display_data"
    }
   ],
   "source": [
    "fig,ax1=plt.subplots(figsize=[8,5])\n",
    "ax1.semilogy(df_cases[df_cases['United States']>0].index,\n",
    "         df_cases[df_cases['United States']>0]['United States'],'b')\n",
    "ax1.set_ylabel('Cases',color='b',fontsize=15)\n",
    "ax2=ax1.twinx()\n",
    "ax2.semilogy(df_deaths[df_cases['United States']>0].index,\n",
    "         df_deaths[df_cases['United States']>0]['United States'],'r')\n",
    "ax2.set_ylabel('Deaths',color='r',fontsize=15)\n",
    "plt.gcf().autofmt_xdate()\n",
    "fig.tight_layout()\n",
    "plt.title('US Data (Log(Y))',fontsize=15)\n",
    "plt.show()"
   ]
  },
  {
   "cell_type": "markdown",
   "metadata": {},
   "source": [
    "## Fitting Chinese data "
   ]
  },
  {
   "cell_type": "code",
   "execution_count": 14,
   "metadata": {},
   "outputs": [
    {
     "data": {
      "image/png": "[encoded data removed]",
      "text/plain": [
       "<Figure size 576x360 with 2 Axes>"
      ]
     },
     "metadata": {
      "needs_background": "light"
     },
     "output_type": "display_data"
    }
   ],
   "source": [
    "fig,ax1=plt.subplots(figsize=[8,5])\n",
    "ax1.semilogy(df_cases[df_cases['China']>0].index,\n",
    "         df_cases[df_cases['China']>0]['China'],'b')\n",
    "ax1.set_ylabel('Cases',color='b',fontsize=15)\n",
    "ax2=ax1.twinx()\n",
    "ax2.semilogy(df_deaths[df_cases['China']>0].index,\n",
    "         df_deaths[df_cases['China']>0]['China'],'r')\n",
    "ax2.set_ylabel('Deaths',color='r',fontsize=15)\n",
    "plt.gcf().autofmt_xdate()\n",
    "fig.tight_layout()\n",
    "plt.title('China (Log(Y))',fontsize=15)\n",
    "plt.show()\n"
   ]
  },
  {
   "cell_type": "code",
   "execution_count": 15,
   "metadata": {},
   "outputs": [
    {
     "name": "stdout",
     "output_type": "stream",
     "text": [
      "[8.13556159e+04 4.03535342e+01 2.22732812e-01]\n",
      "\n",
      " [[ 5.30382747e+04  8.78083031e+00 -3.37691121e-01]\n",
      " [ 8.78083031e+00  1.00240486e-02 -5.59068263e-05]\n",
      " [-3.37691121e-01 -5.59068263e-05  1.85027757e-05]]\n"
     ]
    }
   ],
   "source": [
    "from scipy.optimize import curve_fit\n",
    "def sigmoid(x, L ,x0, k):\n",
    "    y = L / (1 + np.exp(-k*(x-x0)))\n",
    "    return (y)\n",
    "\n",
    "xdata=df_cases[df_cases['China']>0].days\n",
    "ydata=df_cases[df_cases['China']>0]['China']\n",
    "'''p0 : array_like, optional\n",
    "    Initial guess for the parameters (length N).  If None, then the\n",
    "    initial values will all be 1 (if the number of parameters for the\n",
    "    function can be determined using introspection, otherwise a\n",
    "    ValueError is raised)'''\n",
    "p0 = [max(ydata), np.median(xdata),1] \n",
    "'''popt: Optimal values for the parameters so that the sum of the squared residuals of \n",
    "f(xdata, *popt) - ydata is minimized'''\n",
    "popt, pcov = curve_fit(sigmoid, xdata, ydata,p0,method='dogbox')\n",
    "print (popt)\n",
    "print ('\\n',pcov)"
   ]
  },
  {
   "cell_type": "code",
   "execution_count": 16,
   "metadata": {},
   "outputs": [
    {
     "data": {
      "image/png": "[encoded data removed]",
      "text/plain": [
       "<Figure size 432x288 with 1 Axes>"
      ]
     },
     "metadata": {
      "needs_background": "light"
     },
     "output_type": "display_data"
    }
   ],
   "source": [
    "plt.plot(xdata,ydata,'o',label='data')\n",
    "x=np.linspace(0,len(df_cases),len(df_cases))\n",
    "plt.plot(x,sigmoid(xdata, *popt),label='fit')\n",
    "plt.xlabel('Days Since first Incident')\n",
    "plt.ylabel('Counts')\n",
    "plt.title('Infection trend in China')\n",
    "plt.show()"
   ]
  },
  {
   "cell_type": "markdown",
   "metadata": {},
   "source": [
    "## Fitting US \"Cases\" data"
   ]
  },
  {
   "cell_type": "code",
   "execution_count": 17,
   "metadata": {},
   "outputs": [
    {
     "name": "stderr",
     "output_type": "stream",
     "text": [
      "C:\\Users\\plasm\\Anaconda3\\lib\\site-packages\\pandas\\core\\series.py:679: RuntimeWarning: overflow encountered in exp\n",
      "  result = getattr(ufunc, method)(*inputs, **kwargs)\n"
     ]
    },
    {
     "data": {
      "image/png": "[encoded data removed]",
      "text/plain": [
       "<Figure size 720x432 with 1 Axes>"
      ]
     },
     "metadata": {
      "needs_background": "light"
     },
     "output_type": "display_data"
    }
   ],
   "source": [
    "xdata1=df_cases[df_cases['United States']>0].days\n",
    "ydata1=df_cases[df_cases['United States']>0]['United States']\n",
    "p0 = [max(ydata1), np.median(xdata1)*1.2,28] \n",
    "#p0 = [1000000,90,0.2]\n",
    "#p1 = [2500000,90,20]\n",
    "popt, pcov = curve_fit(sigmoid, xdata1, ydata1,p0,method='dogbox')\n",
    "#popt2, pcov2 = curve_fit(sigmoid, xdata1, ydata1,p1,method='dogbox')\n",
    "###########\n",
    "plt.figure(figsize=[10,6])\n",
    "plt.plot(xdata1,ydata1,'o',label='data')\n",
    "x_pred=np.linspace(20,max(df_cases.days)*2,len(df_cases[df_cases['United States']>0]['United States']))\n",
    "x=np.linspace(20,max(df_cases.days),len(df_cases[df_cases['United States']>0]['United States']))\n",
    "#X_new=np.linspace(20,max(df_cases.days)*2,len(df_cases[df_cases['United States']>0]['United States']))\n",
    "plt.plot(x,sigmoid(xdata1, *popt),label='fit',linewidth=5)\n",
    "plt.plot(x_pred,sigmoid(x_pred, *popt),label='Prediction',linestyle='dashed')\n",
    "plt.xlabel('Days Since first Incident')\n",
    "plt.ylabel('Counts')\n",
    "plt.legend()\n",
    "plt.title('Infection trend in USA')\n",
    "plt.show()"
   ]
  },
  {
   "cell_type": "code",
   "execution_count": 18,
   "metadata": {},
   "outputs": [
    {
     "data": {
      "text/plain": [
       "(312237, 70.2)"
      ]
     },
     "execution_count": 18,
     "metadata": {},
     "output_type": "execute_result"
    }
   ],
   "source": [
    "max(ydata1), np.median(xdata1)*1.2"
   ]
  },
  {
   "cell_type": "code",
   "execution_count": 19,
   "metadata": {},
   "outputs": [],
   "source": [
    "y=sigmoid(x_pred, *popt)\n"
   ]
  },
  {
   "cell_type": "code",
   "execution_count": 25,
   "metadata": {},
   "outputs": [
    {
     "data": {
      "text/html": [
       "<div>\n",
       "<style scoped>\n",
       "    .dataframe tbody tr th:only-of-type {\n",
       "        vertical-align: middle;\n",
       "    }\n",
       "\n",
       "    .dataframe tbody tr th {\n",
       "        vertical-align: top;\n",
       "    }\n",
       "\n",
       "    .dataframe thead th {\n",
       "        text-align: right;\n",
       "    }\n",
       "</style>\n",
       "<table border=\"1\" class=\"dataframe\">\n",
       "  <thead>\n",
       "    <tr style=\"text-align: right;\">\n",
       "      <th></th>\n",
       "      <th>x</th>\n",
       "      <th>y</th>\n",
       "    </tr>\n",
       "  </thead>\n",
       "  <tbody>\n",
       "    <tr>\n",
       "      <th>71</th>\n",
       "      <td>182.826667</td>\n",
       "      <td>486362.0</td>\n",
       "    </tr>\n",
       "    <tr>\n",
       "      <th>72</th>\n",
       "      <td>185.120000</td>\n",
       "      <td>486362.0</td>\n",
       "    </tr>\n",
       "    <tr>\n",
       "      <th>73</th>\n",
       "      <td>187.413333</td>\n",
       "      <td>486362.0</td>\n",
       "    </tr>\n",
       "    <tr>\n",
       "      <th>74</th>\n",
       "      <td>189.706667</td>\n",
       "      <td>486362.0</td>\n",
       "    </tr>\n",
       "    <tr>\n",
       "      <th>75</th>\n",
       "      <td>192.000000</td>\n",
       "      <td>486362.0</td>\n",
       "    </tr>\n",
       "  </tbody>\n",
       "</table>\n",
       "</div>"
      ],
      "text/plain": [
       "             x         y\n",
       "71  182.826667  486362.0\n",
       "72  185.120000  486362.0\n",
       "73  187.413333  486362.0\n",
       "74  189.706667  486362.0\n",
       "75  192.000000  486362.0"
      ]
     },
     "execution_count": 25,
     "metadata": {},
     "output_type": "execute_result"
    }
   ],
   "source": [
    "newj=pd.DataFrame({'x':x_pred,'y':np.round(y,0)})\n",
    "newj.tail()"
   ]
  },
  {
   "cell_type": "code",
   "execution_count": 21,
   "metadata": {},
   "outputs": [
    {
     "data": {
      "text/html": [
       "<div>\n",
       "<style scoped>\n",
       "    .dataframe tbody tr th:only-of-type {\n",
       "        vertical-align: middle;\n",
       "    }\n",
       "\n",
       "    .dataframe tbody tr th {\n",
       "        vertical-align: top;\n",
       "    }\n",
       "\n",
       "    .dataframe thead th {\n",
       "        text-align: right;\n",
       "    }\n",
       "</style>\n",
       "<table border=\"1\" class=\"dataframe\">\n",
       "  <thead>\n",
       "    <tr style=\"text-align: right;\">\n",
       "      <th></th>\n",
       "      <th>x</th>\n",
       "      <th>y</th>\n",
       "    </tr>\n",
       "  </thead>\n",
       "  <tbody>\n",
       "    <tr>\n",
       "      <th>count</th>\n",
       "      <td>76.000000</td>\n",
       "      <td>76.000000</td>\n",
       "    </tr>\n",
       "    <tr>\n",
       "      <th>mean</th>\n",
       "      <td>106.000000</td>\n",
       "      <td>277341.302632</td>\n",
       "    </tr>\n",
       "    <tr>\n",
       "      <th>std</th>\n",
       "      <td>50.644084</td>\n",
       "      <td>230054.708328</td>\n",
       "    </tr>\n",
       "    <tr>\n",
       "      <th>min</th>\n",
       "      <td>20.000000</td>\n",
       "      <td>0.000000</td>\n",
       "    </tr>\n",
       "    <tr>\n",
       "      <th>25%</th>\n",
       "      <td>63.000000</td>\n",
       "      <td>346.500000</td>\n",
       "    </tr>\n",
       "    <tr>\n",
       "      <th>50%</th>\n",
       "      <td>106.000000</td>\n",
       "      <td>460052.000000</td>\n",
       "    </tr>\n",
       "    <tr>\n",
       "      <th>75%</th>\n",
       "      <td>149.000000</td>\n",
       "      <td>486360.250000</td>\n",
       "    </tr>\n",
       "    <tr>\n",
       "      <th>max</th>\n",
       "      <td>192.000000</td>\n",
       "      <td>486362.000000</td>\n",
       "    </tr>\n",
       "  </tbody>\n",
       "</table>\n",
       "</div>"
      ],
      "text/plain": [
       "                x              y\n",
       "count   76.000000      76.000000\n",
       "mean   106.000000  277341.302632\n",
       "std     50.644084  230054.708328\n",
       "min     20.000000       0.000000\n",
       "25%     63.000000     346.500000\n",
       "50%    106.000000  460052.000000\n",
       "75%    149.000000  486360.250000\n",
       "max    192.000000  486362.000000"
      ]
     },
     "execution_count": 21,
     "metadata": {},
     "output_type": "execute_result"
    }
   ],
   "source": [
    "newj.describe()"
   ]
  },
  {
   "cell_type": "code",
   "execution_count": 22,
   "metadata": {
    "scrolled": false
   },
   "outputs": [
    {
     "name": "stderr",
     "output_type": "stream",
     "text": [
      "C:\\Users\\plasm\\Anaconda3\\lib\\site-packages\\pandas\\core\\series.py:679: RuntimeWarning: overflow encountered in exp\n",
      "  result = getattr(ufunc, method)(*inputs, **kwargs)\n"
     ]
    },
    {
     "data": {
      "image/png": "[encoded data removed]",
      "text/plain": [
       "<Figure size 720x432 with 1 Axes>"
      ]
     },
     "metadata": {
      "needs_background": "light"
     },
     "output_type": "display_data"
    }
   ],
   "source": [
    "xdata1=df_cases[df_cases['United States']>0].days\n",
    "ydata1=df_cases[df_cases['United States']>0]['United States']\n",
    "p0 = [max(ydata1), np.median(xdata1)*1.2,28] \n",
    "#p0 = [1000000,90,0.2]\n",
    "#p1 = [2500000,90,20]\n",
    "popt, pcov = curve_fit(sigmoid, xdata1, ydata1,p0,method='dogbox')\n",
    "#popt2, pcov2 = curve_fit(sigmoid, xdata1, ydata1,p1,method='dogbox')\n",
    "###########\n",
    "plt.figure(figsize=[10,6])\n",
    "plt.plot(xdata1,ydata1,'o',label='data')\n",
    "x_pred=np.linspace(20,max(df_cases.days)*2,len(df_cases[df_cases['United States']>0]['United States']))\n",
    "x=np.linspace(20,max(df_cases.days),len(df_cases[df_cases['United States']>0]['United States']))\n",
    "#X_new=np.linspace(20,max(df_cases.days)*2,len(df_cases[df_cases['United States']>0]['United States']))\n",
    "plt.plot(x,sigmoid(xdata1, *popt),label='fit',linewidth=5)\n",
    "plt.plot(x_pred,sigmoid(x_pred, *popt),label='Prediction',linestyle='dashed')\n",
    "plt.axvline(114,ymin=0,ymax=1,label='Flattening day=114',color='red')\n",
    "plt.axvline(xdata[-1],ymin=0,ymax=1,label='current day= %g' %(xdata[-1]))\n",
    "plt.xlabel('Days Since first Incident')\n",
    "plt.ylabel('Counts')\n",
    "plt.legend()\n",
    "plt.title('Infection trend in USA')\n",
    "plt.show()"
   ]
  },
  {
   "cell_type": "markdown",
   "metadata": {},
   "source": [
    "## Fitting US 'Deaths' data: "
   ]
  },
  {
   "cell_type": "code",
   "execution_count": 33,
   "metadata": {},
   "outputs": [],
   "source": [
    "xdata1=df_deaths[df_deaths['United States']>0].days\n",
    "ydata1=df_deaths[df_deaths['United States']>0]['United States']\n",
    "p0 = [max(ydata1), np.median(xdata1),1] \n",
    "#p0 = [1000000,90,0.2]\n",
    "#p1 = [2500000,90,20]\n",
    "popt, pcov = curve_fit(sigmoid, xdata1, ydata1,p0,method='dogbox')"
   ]
  },
  {
   "cell_type": "code",
   "execution_count": 55,
   "metadata": {},
   "outputs": [
    {
     "data": {
      "image/png": "[encoded data removed]",
      "text/plain": [
       "<Figure size 720x432 with 1 Axes>"
      ]
     },
     "metadata": {
      "needs_background": "light"
     },
     "output_type": "display_data"
    }
   ],
   "source": [
    "plt.figure(figsize=[10,6])\n",
    "plt.plot(xdata1,ydata1,'o',label='data')\n",
    "x_pred=np.linspace(60,max(df_deaths.days)*2,len(df_deaths[df_deaths['United States']>0]['United States']))\n",
    "x=np.linspace(60,max(df_deaths.days),len(df_deaths[df_deaths['United States']>0]['United States']))\n",
    "X_new=np.linspace(20,max(df_cases.days)*2,len(df_cases[df_cases['United States']>0]['United States']))\n",
    "plt.plot(x,sigmoid(xdata1, *popt),label='fit',linewidth=5)\n",
    "plt.plot(x_pred,sigmoid(x_pred, *popt),label='Prediction',linestyle='dashed')\n",
    "plt.axvline(114,ymin=0,ymax=1,label='Flattening day=114',color='red')\n",
    "plt.axvline(xdata[-1],ymin=0,ymax=1,label='current day= %g' %(xdata[-1]))\n",
    "plt.xlabel('Days Since first Death')\n",
    "plt.ylabel('Counts')\n",
    "plt.legend()\n",
    "plt.title('Probable Death Count in USA ')\n",
    "plt.show()"
   ]
  },
  {
   "cell_type": "code",
   "execution_count": null,
   "metadata": {},
   "outputs": [],
   "source": []
  }
 ],
 "metadata": {
  "kernelspec": {
   "display_name": "Python 3",
   "language": "python",
   "name": "python3"
  },
  "language_info": {
   "codemirror_mode": {
    "name": "ipython",
    "version": 3
   },
   "file_extension": ".py",
   "mimetype": "text/x-python",
   "name": "python",
   "nbconvert_exporter": "python",
   "pygments_lexer": "ipython3",
   "version": "3.7.6"
  }
 },
 "nbformat": 4,
 "nbformat_minor": 4
}
