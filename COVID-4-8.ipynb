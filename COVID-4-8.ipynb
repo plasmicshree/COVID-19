{
 "cells": [
  {
   "cell_type": "markdown",
   "metadata": {},
   "source": [
    "# COVID DATAANALYSIS"
   ]
  },
  {
   "cell_type": "code",
   "execution_count": 1,
   "metadata": {},
   "outputs": [],
   "source": [
    "# You may need to install wget first. \n",
    "# Do 'pip install wget' in anaconda prompt.\n",
    "import wget\n",
    "import numpy as np\n",
    "import pandas as pd\n",
    "import matplotlib.pyplot as plt\n",
    "%matplotlib inline"
   ]
  },
  {
   "cell_type": "code",
   "execution_count": 2,
   "metadata": {},
   "outputs": [
    {
     "name": "stderr",
     "output_type": "stream",
     "text": [
      "'rm' is not recognized as an internal or external command,\n",
      "operable program or batch file.\n",
      "'rm' is not recognized as an internal or external command,\n",
      "operable program or batch file.\n"
     ]
    },
    {
     "name": "stdout",
     "output_type": "stream",
     "text": [
      "100% [..............................................................................] 42049 / 42049"
     ]
    }
   ],
   "source": [
    "! rm ./total_cases.csv\n",
    "! rm ./total_deaths.csv\n",
    "death=wget.download('https://covid.ourworldindata.org/data/ecdc/total_deaths.csv')\n",
    "cases=wget.download('https://covid.ourworldindata.org/data/ecdc/total_cases.csv')"
   ]
  },
  {
   "cell_type": "code",
   "execution_count": 3,
   "metadata": {},
   "outputs": [],
   "source": [
    "df_deaths=pd.read_csv(death,index_col='date')\n",
    "df_cases=pd.read_csv(cases,index_col='date')"
   ]
  },
  {
   "cell_type": "code",
   "execution_count": 4,
   "metadata": {},
   "outputs": [
    {
     "data": {
      "text/html": [
       "<div>\n",
       "<style scoped>\n",
       "    .dataframe tbody tr th:only-of-type {\n",
       "        vertical-align: middle;\n",
       "    }\n",
       "\n",
       "    .dataframe tbody tr th {\n",
       "        vertical-align: top;\n",
       "    }\n",
       "\n",
       "    .dataframe thead th {\n",
       "        text-align: right;\n",
       "    }\n",
       "</style>\n",
       "<table border=\"1\" class=\"dataframe\">\n",
       "  <thead>\n",
       "    <tr style=\"text-align: right;\">\n",
       "      <th></th>\n",
       "      <th>World</th>\n",
       "      <th>Afghanistan</th>\n",
       "      <th>Albania</th>\n",
       "      <th>Algeria</th>\n",
       "      <th>Andorra</th>\n",
       "      <th>Angola</th>\n",
       "      <th>Anguilla</th>\n",
       "      <th>Antigua and Barbuda</th>\n",
       "      <th>Argentina</th>\n",
       "      <th>Armenia</th>\n",
       "      <th>...</th>\n",
       "      <th>United Kingdom</th>\n",
       "      <th>United States</th>\n",
       "      <th>United States Virgin Islands</th>\n",
       "      <th>Uruguay</th>\n",
       "      <th>Uzbekistan</th>\n",
       "      <th>Vatican</th>\n",
       "      <th>Venezuela</th>\n",
       "      <th>Vietnam</th>\n",
       "      <th>Zambia</th>\n",
       "      <th>Zimbabwe</th>\n",
       "    </tr>\n",
       "    <tr>\n",
       "      <th>date</th>\n",
       "      <th></th>\n",
       "      <th></th>\n",
       "      <th></th>\n",
       "      <th></th>\n",
       "      <th></th>\n",
       "      <th></th>\n",
       "      <th></th>\n",
       "      <th></th>\n",
       "      <th></th>\n",
       "      <th></th>\n",
       "      <th></th>\n",
       "      <th></th>\n",
       "      <th></th>\n",
       "      <th></th>\n",
       "      <th></th>\n",
       "      <th></th>\n",
       "      <th></th>\n",
       "      <th></th>\n",
       "      <th></th>\n",
       "      <th></th>\n",
       "      <th></th>\n",
       "    </tr>\n",
       "  </thead>\n",
       "  <tbody>\n",
       "    <tr>\n",
       "      <th>2020-04-04</th>\n",
       "      <td>58159</td>\n",
       "      <td>4.0</td>\n",
       "      <td>17.0</td>\n",
       "      <td>83.0</td>\n",
       "      <td>16.0</td>\n",
       "      <td>2.0</td>\n",
       "      <td>0.0</td>\n",
       "      <td>0.0</td>\n",
       "      <td>37.0</td>\n",
       "      <td>7.0</td>\n",
       "      <td>...</td>\n",
       "      <td>3605</td>\n",
       "      <td>7157</td>\n",
       "      <td>0.0</td>\n",
       "      <td>4.0</td>\n",
       "      <td>2.0</td>\n",
       "      <td>0.0</td>\n",
       "      <td>3.0</td>\n",
       "      <td>0.0</td>\n",
       "      <td>1.0</td>\n",
       "      <td>1.0</td>\n",
       "    </tr>\n",
       "    <tr>\n",
       "      <th>2020-04-05</th>\n",
       "      <td>64274</td>\n",
       "      <td>5.0</td>\n",
       "      <td>19.0</td>\n",
       "      <td>130.0</td>\n",
       "      <td>17.0</td>\n",
       "      <td>2.0</td>\n",
       "      <td>0.0</td>\n",
       "      <td>0.0</td>\n",
       "      <td>43.0</td>\n",
       "      <td>7.0</td>\n",
       "      <td>...</td>\n",
       "      <td>4313</td>\n",
       "      <td>8501</td>\n",
       "      <td>0.0</td>\n",
       "      <td>5.0</td>\n",
       "      <td>2.0</td>\n",
       "      <td>0.0</td>\n",
       "      <td>5.0</td>\n",
       "      <td>0.0</td>\n",
       "      <td>1.0</td>\n",
       "      <td>1.0</td>\n",
       "    </tr>\n",
       "    <tr>\n",
       "      <th>2020-04-06</th>\n",
       "      <td>68929</td>\n",
       "      <td>7.0</td>\n",
       "      <td>21.0</td>\n",
       "      <td>152.0</td>\n",
       "      <td>18.0</td>\n",
       "      <td>2.0</td>\n",
       "      <td>0.0</td>\n",
       "      <td>0.0</td>\n",
       "      <td>46.0</td>\n",
       "      <td>7.0</td>\n",
       "      <td>...</td>\n",
       "      <td>4934</td>\n",
       "      <td>9647</td>\n",
       "      <td>1.0</td>\n",
       "      <td>6.0</td>\n",
       "      <td>2.0</td>\n",
       "      <td>0.0</td>\n",
       "      <td>5.0</td>\n",
       "      <td>0.0</td>\n",
       "      <td>1.0</td>\n",
       "      <td>1.0</td>\n",
       "    </tr>\n",
       "    <tr>\n",
       "      <th>2020-04-07</th>\n",
       "      <td>74066</td>\n",
       "      <td>7.0</td>\n",
       "      <td>22.0</td>\n",
       "      <td>173.0</td>\n",
       "      <td>21.0</td>\n",
       "      <td>2.0</td>\n",
       "      <td>0.0</td>\n",
       "      <td>0.0</td>\n",
       "      <td>53.0</td>\n",
       "      <td>8.0</td>\n",
       "      <td>...</td>\n",
       "      <td>5373</td>\n",
       "      <td>10989</td>\n",
       "      <td>1.0</td>\n",
       "      <td>6.0</td>\n",
       "      <td>2.0</td>\n",
       "      <td>0.0</td>\n",
       "      <td>5.0</td>\n",
       "      <td>0.0</td>\n",
       "      <td>1.0</td>\n",
       "      <td>1.0</td>\n",
       "    </tr>\n",
       "    <tr>\n",
       "      <th>2020-04-08</th>\n",
       "      <td>81478</td>\n",
       "      <td>11.0</td>\n",
       "      <td>22.0</td>\n",
       "      <td>194.0</td>\n",
       "      <td>22.0</td>\n",
       "      <td>2.0</td>\n",
       "      <td>0.0</td>\n",
       "      <td>0.0</td>\n",
       "      <td>60.0</td>\n",
       "      <td>8.0</td>\n",
       "      <td>...</td>\n",
       "      <td>6159</td>\n",
       "      <td>12895</td>\n",
       "      <td>1.0</td>\n",
       "      <td>7.0</td>\n",
       "      <td>2.0</td>\n",
       "      <td>0.0</td>\n",
       "      <td>7.0</td>\n",
       "      <td>0.0</td>\n",
       "      <td>1.0</td>\n",
       "      <td>1.0</td>\n",
       "    </tr>\n",
       "  </tbody>\n",
       "</table>\n",
       "<p>5 rows × 205 columns</p>\n",
       "</div>"
      ],
      "text/plain": [
       "            World  Afghanistan  Albania  Algeria  Andorra  Angola  Anguilla  \\\n",
       "date                                                                          \n",
       "2020-04-04  58159          4.0     17.0     83.0     16.0     2.0       0.0   \n",
       "2020-04-05  64274          5.0     19.0    130.0     17.0     2.0       0.0   \n",
       "2020-04-06  68929          7.0     21.0    152.0     18.0     2.0       0.0   \n",
       "2020-04-07  74066          7.0     22.0    173.0     21.0     2.0       0.0   \n",
       "2020-04-08  81478         11.0     22.0    194.0     22.0     2.0       0.0   \n",
       "\n",
       "            Antigua and Barbuda  Argentina  Armenia  ...  United Kingdom  \\\n",
       "date                                                 ...                   \n",
       "2020-04-04                  0.0       37.0      7.0  ...            3605   \n",
       "2020-04-05                  0.0       43.0      7.0  ...            4313   \n",
       "2020-04-06                  0.0       46.0      7.0  ...            4934   \n",
       "2020-04-07                  0.0       53.0      8.0  ...            5373   \n",
       "2020-04-08                  0.0       60.0      8.0  ...            6159   \n",
       "\n",
       "            United States  United States Virgin Islands  Uruguay  Uzbekistan  \\\n",
       "date                                                                           \n",
       "2020-04-04           7157                           0.0      4.0         2.0   \n",
       "2020-04-05           8501                           0.0      5.0         2.0   \n",
       "2020-04-06           9647                           1.0      6.0         2.0   \n",
       "2020-04-07          10989                           1.0      6.0         2.0   \n",
       "2020-04-08          12895                           1.0      7.0         2.0   \n",
       "\n",
       "            Vatican  Venezuela  Vietnam  Zambia  Zimbabwe  \n",
       "date                                                       \n",
       "2020-04-04      0.0        3.0      0.0     1.0       1.0  \n",
       "2020-04-05      0.0        5.0      0.0     1.0       1.0  \n",
       "2020-04-06      0.0        5.0      0.0     1.0       1.0  \n",
       "2020-04-07      0.0        5.0      0.0     1.0       1.0  \n",
       "2020-04-08      0.0        7.0      0.0     1.0       1.0  \n",
       "\n",
       "[5 rows x 205 columns]"
      ]
     },
     "execution_count": 4,
     "metadata": {},
     "output_type": "execute_result"
    }
   ],
   "source": [
    "df_deaths.tail()"
   ]
  },
  {
   "cell_type": "code",
   "execution_count": 5,
   "metadata": {},
   "outputs": [
    {
     "data": {
      "text/plain": [
       "dtype('O')"
      ]
     },
     "execution_count": 5,
     "metadata": {},
     "output_type": "execute_result"
    }
   ],
   "source": [
    "df_cases.index.dtype\n"
   ]
  },
  {
   "cell_type": "code",
   "execution_count": 6,
   "metadata": {},
   "outputs": [
    {
     "data": {
      "text/html": [
       "<div>\n",
       "<style scoped>\n",
       "    .dataframe tbody tr th:only-of-type {\n",
       "        vertical-align: middle;\n",
       "    }\n",
       "\n",
       "    .dataframe tbody tr th {\n",
       "        vertical-align: top;\n",
       "    }\n",
       "\n",
       "    .dataframe thead th {\n",
       "        text-align: right;\n",
       "    }\n",
       "</style>\n",
       "<table border=\"1\" class=\"dataframe\">\n",
       "  <thead>\n",
       "    <tr style=\"text-align: right;\">\n",
       "      <th></th>\n",
       "      <th>World</th>\n",
       "      <th>Afghanistan</th>\n",
       "      <th>Albania</th>\n",
       "      <th>Algeria</th>\n",
       "      <th>Andorra</th>\n",
       "      <th>Angola</th>\n",
       "      <th>Anguilla</th>\n",
       "      <th>Antigua and Barbuda</th>\n",
       "      <th>Argentina</th>\n",
       "      <th>Armenia</th>\n",
       "      <th>...</th>\n",
       "      <th>United Kingdom</th>\n",
       "      <th>United States</th>\n",
       "      <th>United States Virgin Islands</th>\n",
       "      <th>Uruguay</th>\n",
       "      <th>Uzbekistan</th>\n",
       "      <th>Vatican</th>\n",
       "      <th>Venezuela</th>\n",
       "      <th>Vietnam</th>\n",
       "      <th>Zambia</th>\n",
       "      <th>Zimbabwe</th>\n",
       "    </tr>\n",
       "    <tr>\n",
       "      <th>date</th>\n",
       "      <th></th>\n",
       "      <th></th>\n",
       "      <th></th>\n",
       "      <th></th>\n",
       "      <th></th>\n",
       "      <th></th>\n",
       "      <th></th>\n",
       "      <th></th>\n",
       "      <th></th>\n",
       "      <th></th>\n",
       "      <th></th>\n",
       "      <th></th>\n",
       "      <th></th>\n",
       "      <th></th>\n",
       "      <th></th>\n",
       "      <th></th>\n",
       "      <th></th>\n",
       "      <th></th>\n",
       "      <th></th>\n",
       "      <th></th>\n",
       "      <th></th>\n",
       "    </tr>\n",
       "  </thead>\n",
       "  <tbody>\n",
       "    <tr>\n",
       "      <th>2019-12-31</th>\n",
       "      <td>27</td>\n",
       "      <td>0.0</td>\n",
       "      <td>NaN</td>\n",
       "      <td>0.0</td>\n",
       "      <td>NaN</td>\n",
       "      <td>NaN</td>\n",
       "      <td>NaN</td>\n",
       "      <td>NaN</td>\n",
       "      <td>NaN</td>\n",
       "      <td>0.0</td>\n",
       "      <td>...</td>\n",
       "      <td>0</td>\n",
       "      <td>0</td>\n",
       "      <td>NaN</td>\n",
       "      <td>NaN</td>\n",
       "      <td>NaN</td>\n",
       "      <td>NaN</td>\n",
       "      <td>NaN</td>\n",
       "      <td>0.0</td>\n",
       "      <td>NaN</td>\n",
       "      <td>NaN</td>\n",
       "    </tr>\n",
       "    <tr>\n",
       "      <th>2020-01-01</th>\n",
       "      <td>27</td>\n",
       "      <td>0.0</td>\n",
       "      <td>NaN</td>\n",
       "      <td>0.0</td>\n",
       "      <td>NaN</td>\n",
       "      <td>NaN</td>\n",
       "      <td>NaN</td>\n",
       "      <td>NaN</td>\n",
       "      <td>NaN</td>\n",
       "      <td>0.0</td>\n",
       "      <td>...</td>\n",
       "      <td>0</td>\n",
       "      <td>0</td>\n",
       "      <td>NaN</td>\n",
       "      <td>NaN</td>\n",
       "      <td>NaN</td>\n",
       "      <td>NaN</td>\n",
       "      <td>NaN</td>\n",
       "      <td>0.0</td>\n",
       "      <td>NaN</td>\n",
       "      <td>NaN</td>\n",
       "    </tr>\n",
       "    <tr>\n",
       "      <th>2020-01-02</th>\n",
       "      <td>27</td>\n",
       "      <td>0.0</td>\n",
       "      <td>NaN</td>\n",
       "      <td>0.0</td>\n",
       "      <td>NaN</td>\n",
       "      <td>NaN</td>\n",
       "      <td>NaN</td>\n",
       "      <td>NaN</td>\n",
       "      <td>NaN</td>\n",
       "      <td>0.0</td>\n",
       "      <td>...</td>\n",
       "      <td>0</td>\n",
       "      <td>0</td>\n",
       "      <td>NaN</td>\n",
       "      <td>NaN</td>\n",
       "      <td>NaN</td>\n",
       "      <td>NaN</td>\n",
       "      <td>NaN</td>\n",
       "      <td>0.0</td>\n",
       "      <td>NaN</td>\n",
       "      <td>NaN</td>\n",
       "    </tr>\n",
       "    <tr>\n",
       "      <th>2020-01-03</th>\n",
       "      <td>44</td>\n",
       "      <td>0.0</td>\n",
       "      <td>NaN</td>\n",
       "      <td>0.0</td>\n",
       "      <td>NaN</td>\n",
       "      <td>NaN</td>\n",
       "      <td>NaN</td>\n",
       "      <td>NaN</td>\n",
       "      <td>NaN</td>\n",
       "      <td>0.0</td>\n",
       "      <td>...</td>\n",
       "      <td>0</td>\n",
       "      <td>0</td>\n",
       "      <td>NaN</td>\n",
       "      <td>NaN</td>\n",
       "      <td>NaN</td>\n",
       "      <td>NaN</td>\n",
       "      <td>NaN</td>\n",
       "      <td>0.0</td>\n",
       "      <td>NaN</td>\n",
       "      <td>NaN</td>\n",
       "    </tr>\n",
       "    <tr>\n",
       "      <th>2020-01-04</th>\n",
       "      <td>44</td>\n",
       "      <td>0.0</td>\n",
       "      <td>NaN</td>\n",
       "      <td>0.0</td>\n",
       "      <td>NaN</td>\n",
       "      <td>NaN</td>\n",
       "      <td>NaN</td>\n",
       "      <td>NaN</td>\n",
       "      <td>NaN</td>\n",
       "      <td>0.0</td>\n",
       "      <td>...</td>\n",
       "      <td>0</td>\n",
       "      <td>0</td>\n",
       "      <td>NaN</td>\n",
       "      <td>NaN</td>\n",
       "      <td>NaN</td>\n",
       "      <td>NaN</td>\n",
       "      <td>NaN</td>\n",
       "      <td>0.0</td>\n",
       "      <td>NaN</td>\n",
       "      <td>NaN</td>\n",
       "    </tr>\n",
       "  </tbody>\n",
       "</table>\n",
       "<p>5 rows × 205 columns</p>\n",
       "</div>"
      ],
      "text/plain": [
       "            World  Afghanistan  Albania  Algeria  Andorra  Angola  Anguilla  \\\n",
       "date                                                                          \n",
       "2019-12-31     27          0.0      NaN      0.0      NaN     NaN       NaN   \n",
       "2020-01-01     27          0.0      NaN      0.0      NaN     NaN       NaN   \n",
       "2020-01-02     27          0.0      NaN      0.0      NaN     NaN       NaN   \n",
       "2020-01-03     44          0.0      NaN      0.0      NaN     NaN       NaN   \n",
       "2020-01-04     44          0.0      NaN      0.0      NaN     NaN       NaN   \n",
       "\n",
       "            Antigua and Barbuda  Argentina  Armenia  ...  United Kingdom  \\\n",
       "date                                                 ...                   \n",
       "2019-12-31                  NaN        NaN      0.0  ...               0   \n",
       "2020-01-01                  NaN        NaN      0.0  ...               0   \n",
       "2020-01-02                  NaN        NaN      0.0  ...               0   \n",
       "2020-01-03                  NaN        NaN      0.0  ...               0   \n",
       "2020-01-04                  NaN        NaN      0.0  ...               0   \n",
       "\n",
       "            United States  United States Virgin Islands  Uruguay  Uzbekistan  \\\n",
       "date                                                                           \n",
       "2019-12-31              0                           NaN      NaN         NaN   \n",
       "2020-01-01              0                           NaN      NaN         NaN   \n",
       "2020-01-02              0                           NaN      NaN         NaN   \n",
       "2020-01-03              0                           NaN      NaN         NaN   \n",
       "2020-01-04              0                           NaN      NaN         NaN   \n",
       "\n",
       "            Vatican  Venezuela  Vietnam  Zambia  Zimbabwe  \n",
       "date                                                       \n",
       "2019-12-31      NaN        NaN      0.0     NaN       NaN  \n",
       "2020-01-01      NaN        NaN      0.0     NaN       NaN  \n",
       "2020-01-02      NaN        NaN      0.0     NaN       NaN  \n",
       "2020-01-03      NaN        NaN      0.0     NaN       NaN  \n",
       "2020-01-04      NaN        NaN      0.0     NaN       NaN  \n",
       "\n",
       "[5 rows x 205 columns]"
      ]
     },
     "execution_count": 6,
     "metadata": {},
     "output_type": "execute_result"
    }
   ],
   "source": [
    "df_cases.head()"
   ]
  },
  {
   "cell_type": "code",
   "execution_count": 7,
   "metadata": {},
   "outputs": [
    {
     "data": {
      "text/plain": [
       "['China']"
      ]
     },
     "execution_count": 7,
     "metadata": {},
     "output_type": "execute_result"
    }
   ],
   "source": [
    "listy=df_cases.columns\n",
    "matches = [x for x in listy if x=='China']\n",
    "matches"
   ]
  },
  {
   "cell_type": "code",
   "execution_count": 8,
   "metadata": {},
   "outputs": [
    {
     "name": "stdout",
     "output_type": "stream",
     "text": [
      "object\n",
      "datetime64[ns]\n"
     ]
    }
   ],
   "source": [
    "print (df_cases.index.dtype)\n",
    "#looks like index is not datetime!\n",
    "df_cases.index = pd.to_datetime(df_cases.index)\n",
    "df_deaths.index = pd.to_datetime(df_deaths.index)\n",
    "print (df_cases.index.dtype)"
   ]
  },
  {
   "cell_type": "code",
   "execution_count": 9,
   "metadata": {},
   "outputs": [
    {
     "data": {
      "text/html": [
       "<div>\n",
       "<style scoped>\n",
       "    .dataframe tbody tr th:only-of-type {\n",
       "        vertical-align: middle;\n",
       "    }\n",
       "\n",
       "    .dataframe tbody tr th {\n",
       "        vertical-align: top;\n",
       "    }\n",
       "\n",
       "    .dataframe thead th {\n",
       "        text-align: right;\n",
       "    }\n",
       "</style>\n",
       "<table border=\"1\" class=\"dataframe\">\n",
       "  <thead>\n",
       "    <tr style=\"text-align: right;\">\n",
       "      <th></th>\n",
       "      <th>World</th>\n",
       "      <th>Afghanistan</th>\n",
       "      <th>Albania</th>\n",
       "      <th>Algeria</th>\n",
       "      <th>Andorra</th>\n",
       "      <th>Angola</th>\n",
       "      <th>Anguilla</th>\n",
       "      <th>Antigua and Barbuda</th>\n",
       "      <th>Argentina</th>\n",
       "      <th>Armenia</th>\n",
       "      <th>...</th>\n",
       "      <th>United States</th>\n",
       "      <th>United States Virgin Islands</th>\n",
       "      <th>Uruguay</th>\n",
       "      <th>Uzbekistan</th>\n",
       "      <th>Vatican</th>\n",
       "      <th>Venezuela</th>\n",
       "      <th>Vietnam</th>\n",
       "      <th>Zambia</th>\n",
       "      <th>Zimbabwe</th>\n",
       "      <th>days</th>\n",
       "    </tr>\n",
       "    <tr>\n",
       "      <th>date</th>\n",
       "      <th></th>\n",
       "      <th></th>\n",
       "      <th></th>\n",
       "      <th></th>\n",
       "      <th></th>\n",
       "      <th></th>\n",
       "      <th></th>\n",
       "      <th></th>\n",
       "      <th></th>\n",
       "      <th></th>\n",
       "      <th></th>\n",
       "      <th></th>\n",
       "      <th></th>\n",
       "      <th></th>\n",
       "      <th></th>\n",
       "      <th></th>\n",
       "      <th></th>\n",
       "      <th></th>\n",
       "      <th></th>\n",
       "      <th></th>\n",
       "      <th></th>\n",
       "    </tr>\n",
       "  </thead>\n",
       "  <tbody>\n",
       "    <tr>\n",
       "      <th>2019-12-31</th>\n",
       "      <td>0</td>\n",
       "      <td>0.0</td>\n",
       "      <td>NaN</td>\n",
       "      <td>0.0</td>\n",
       "      <td>NaN</td>\n",
       "      <td>NaN</td>\n",
       "      <td>NaN</td>\n",
       "      <td>NaN</td>\n",
       "      <td>NaN</td>\n",
       "      <td>0.0</td>\n",
       "      <td>...</td>\n",
       "      <td>0</td>\n",
       "      <td>NaN</td>\n",
       "      <td>NaN</td>\n",
       "      <td>NaN</td>\n",
       "      <td>NaN</td>\n",
       "      <td>NaN</td>\n",
       "      <td>0.0</td>\n",
       "      <td>NaN</td>\n",
       "      <td>NaN</td>\n",
       "      <td>0.0</td>\n",
       "    </tr>\n",
       "    <tr>\n",
       "      <th>2020-01-01</th>\n",
       "      <td>0</td>\n",
       "      <td>0.0</td>\n",
       "      <td>NaN</td>\n",
       "      <td>0.0</td>\n",
       "      <td>NaN</td>\n",
       "      <td>NaN</td>\n",
       "      <td>NaN</td>\n",
       "      <td>NaN</td>\n",
       "      <td>NaN</td>\n",
       "      <td>0.0</td>\n",
       "      <td>...</td>\n",
       "      <td>0</td>\n",
       "      <td>NaN</td>\n",
       "      <td>NaN</td>\n",
       "      <td>NaN</td>\n",
       "      <td>NaN</td>\n",
       "      <td>NaN</td>\n",
       "      <td>0.0</td>\n",
       "      <td>NaN</td>\n",
       "      <td>NaN</td>\n",
       "      <td>1.0</td>\n",
       "    </tr>\n",
       "    <tr>\n",
       "      <th>2020-01-02</th>\n",
       "      <td>0</td>\n",
       "      <td>0.0</td>\n",
       "      <td>NaN</td>\n",
       "      <td>0.0</td>\n",
       "      <td>NaN</td>\n",
       "      <td>NaN</td>\n",
       "      <td>NaN</td>\n",
       "      <td>NaN</td>\n",
       "      <td>NaN</td>\n",
       "      <td>0.0</td>\n",
       "      <td>...</td>\n",
       "      <td>0</td>\n",
       "      <td>NaN</td>\n",
       "      <td>NaN</td>\n",
       "      <td>NaN</td>\n",
       "      <td>NaN</td>\n",
       "      <td>NaN</td>\n",
       "      <td>0.0</td>\n",
       "      <td>NaN</td>\n",
       "      <td>NaN</td>\n",
       "      <td>2.0</td>\n",
       "    </tr>\n",
       "    <tr>\n",
       "      <th>2020-01-03</th>\n",
       "      <td>0</td>\n",
       "      <td>0.0</td>\n",
       "      <td>NaN</td>\n",
       "      <td>0.0</td>\n",
       "      <td>NaN</td>\n",
       "      <td>NaN</td>\n",
       "      <td>NaN</td>\n",
       "      <td>NaN</td>\n",
       "      <td>NaN</td>\n",
       "      <td>0.0</td>\n",
       "      <td>...</td>\n",
       "      <td>0</td>\n",
       "      <td>NaN</td>\n",
       "      <td>NaN</td>\n",
       "      <td>NaN</td>\n",
       "      <td>NaN</td>\n",
       "      <td>NaN</td>\n",
       "      <td>0.0</td>\n",
       "      <td>NaN</td>\n",
       "      <td>NaN</td>\n",
       "      <td>3.0</td>\n",
       "    </tr>\n",
       "    <tr>\n",
       "      <th>2020-01-04</th>\n",
       "      <td>0</td>\n",
       "      <td>0.0</td>\n",
       "      <td>NaN</td>\n",
       "      <td>0.0</td>\n",
       "      <td>NaN</td>\n",
       "      <td>NaN</td>\n",
       "      <td>NaN</td>\n",
       "      <td>NaN</td>\n",
       "      <td>NaN</td>\n",
       "      <td>0.0</td>\n",
       "      <td>...</td>\n",
       "      <td>0</td>\n",
       "      <td>NaN</td>\n",
       "      <td>NaN</td>\n",
       "      <td>NaN</td>\n",
       "      <td>NaN</td>\n",
       "      <td>NaN</td>\n",
       "      <td>0.0</td>\n",
       "      <td>NaN</td>\n",
       "      <td>NaN</td>\n",
       "      <td>4.0</td>\n",
       "    </tr>\n",
       "  </tbody>\n",
       "</table>\n",
       "<p>5 rows × 206 columns</p>\n",
       "</div>"
      ],
      "text/plain": [
       "            World  Afghanistan  Albania  Algeria  Andorra  Angola  Anguilla  \\\n",
       "date                                                                          \n",
       "2019-12-31      0          0.0      NaN      0.0      NaN     NaN       NaN   \n",
       "2020-01-01      0          0.0      NaN      0.0      NaN     NaN       NaN   \n",
       "2020-01-02      0          0.0      NaN      0.0      NaN     NaN       NaN   \n",
       "2020-01-03      0          0.0      NaN      0.0      NaN     NaN       NaN   \n",
       "2020-01-04      0          0.0      NaN      0.0      NaN     NaN       NaN   \n",
       "\n",
       "            Antigua and Barbuda  Argentina  Armenia  ...  United States  \\\n",
       "date                                                 ...                  \n",
       "2019-12-31                  NaN        NaN      0.0  ...              0   \n",
       "2020-01-01                  NaN        NaN      0.0  ...              0   \n",
       "2020-01-02                  NaN        NaN      0.0  ...              0   \n",
       "2020-01-03                  NaN        NaN      0.0  ...              0   \n",
       "2020-01-04                  NaN        NaN      0.0  ...              0   \n",
       "\n",
       "            United States Virgin Islands  Uruguay  Uzbekistan  Vatican  \\\n",
       "date                                                                     \n",
       "2019-12-31                           NaN      NaN         NaN      NaN   \n",
       "2020-01-01                           NaN      NaN         NaN      NaN   \n",
       "2020-01-02                           NaN      NaN         NaN      NaN   \n",
       "2020-01-03                           NaN      NaN         NaN      NaN   \n",
       "2020-01-04                           NaN      NaN         NaN      NaN   \n",
       "\n",
       "            Venezuela  Vietnam  Zambia  Zimbabwe  days  \n",
       "date                                                    \n",
       "2019-12-31        NaN      0.0     NaN       NaN   0.0  \n",
       "2020-01-01        NaN      0.0     NaN       NaN   1.0  \n",
       "2020-01-02        NaN      0.0     NaN       NaN   2.0  \n",
       "2020-01-03        NaN      0.0     NaN       NaN   3.0  \n",
       "2020-01-04        NaN      0.0     NaN       NaN   4.0  \n",
       "\n",
       "[5 rows x 206 columns]"
      ]
     },
     "execution_count": 9,
     "metadata": {},
     "output_type": "execute_result"
    }
   ],
   "source": [
    "#Subtract date to find number of days\n",
    "df_cases['days'] = df_cases.index - df_cases.index[0]\n",
    "df_deaths['days'] = df_deaths.index - df_deaths.index[0]\n",
    "#Turns out the result is still datetime. Converting it to float below:\n",
    "df_cases['days']=df_cases['days']/np.timedelta64(1,'D')\n",
    "df_deaths['days']=df_deaths['days']/np.timedelta64(1,'D')\n",
    "df_deaths.head()"
   ]
  },
  {
   "cell_type": "code",
   "execution_count": null,
   "metadata": {},
   "outputs": [],
   "source": []
  },
  {
   "cell_type": "code",
   "execution_count": 10,
   "metadata": {},
   "outputs": [
    {
     "data": {
      "image/png": "[encoded data removed]",
      "text/plain": [
       "<Figure size 504x360 with 2 Axes>"
      ]
     },
     "metadata": {
      "needs_background": "light"
     },
     "output_type": "display_data"
    }
   ],
   "source": [
    "from matplotlib.dates import DateFormatter\n",
    "fig,ax1=plt.subplots(figsize=[7,5])\n",
    "ax1.plot(df_cases.index,df_cases.World,'b')\n",
    "ax1.set_ylabel('Cases',color='b',fontsize=15)\n",
    "ax2=ax1.twinx()\n",
    "ax2.plot(df_deaths.index,df_deaths.World,'r')\n",
    "ax2.set_ylabel('Deaths',color='r',fontsize=15)\n",
    "plt.gcf().autofmt_xdate()\n",
    "fig.tight_layout()\n",
    "plt.title('Global Data',fontsize=15)\n",
    "plt.show()"
   ]
  },
  {
   "cell_type": "code",
   "execution_count": 11,
   "metadata": {},
   "outputs": [
    {
     "name": "stdout",
     "output_type": "stream",
     "text": [
      "Pearsons correlation: 0.9952489144631989\n",
      "Spearmans correlation: 0.999006010220524\n"
     ]
    }
   ],
   "source": [
    "#Determine correlation coeffecient\n",
    "from scipy.stats import pearsonr # used for linear variation\n",
    "from scipy.stats import spearmanr # used for nonlinear looking variation\n",
    "corr_p = pearsonr(np.array(df_cases.World),np.array(df_deaths.World))\n",
    "corr_s= spearmanr(np.array(df_cases.World),np.array(df_deaths.World))\n",
    "print('Pearsons correlation:', corr_p[0])\n",
    "print('Spearmans correlation:',corr_s[0])"
   ]
  },
  {
   "cell_type": "code",
   "execution_count": 12,
   "metadata": {},
   "outputs": [
    {
     "data": {
      "text/plain": [
       "date\n",
       "2020-01-21         1\n",
       "2020-01-22         1\n",
       "2020-01-23         1\n",
       "2020-01-24         1\n",
       "2020-01-25         2\n",
       "               ...  \n",
       "2020-04-04    277965\n",
       "2020-04-05    312237\n",
       "2020-04-06    337635\n",
       "2020-04-07    368196\n",
       "2020-04-08    398809\n",
       "Name: United States, Length: 79, dtype: int64"
      ]
     },
     "execution_count": 12,
     "metadata": {},
     "output_type": "execute_result"
    }
   ],
   "source": [
    "# Filter column when cases >0 in US\n",
    "df_cases[df_cases['United States']>0]['United States']"
   ]
  },
  {
   "cell_type": "code",
   "execution_count": 13,
   "metadata": {},
   "outputs": [
    {
     "data": {
      "image/png": "[encoded data removed]",
      "text/plain": [
       "<Figure size 576x360 with 2 Axes>"
      ]
     },
     "metadata": {
      "needs_background": "light"
     },
     "output_type": "display_data"
    }
   ],
   "source": [
    "fig,ax1=plt.subplots(figsize=[8,5])\n",
    "ax1.semilogy(df_cases[df_cases['United States']>0].index,\n",
    "         df_cases[df_cases['United States']>0]['United States'],'b')\n",
    "ax1.set_ylabel('Cases',color='b',fontsize=15)\n",
    "ax2=ax1.twinx()\n",
    "ax2.semilogy(df_deaths[df_cases['United States']>0].index,\n",
    "         df_deaths[df_cases['United States']>0]['United States'],'r')\n",
    "ax2.set_ylabel('Deaths',color='r',fontsize=15)\n",
    "plt.gcf().autofmt_xdate()\n",
    "fig.tight_layout()\n",
    "plt.title('US Data (Log(Y))',fontsize=15)\n",
    "plt.show()"
   ]
  },
  {
   "cell_type": "markdown",
   "metadata": {},
   "source": [
    "## Fitting Chinese data "
   ]
  },
  {
   "cell_type": "code",
   "execution_count": 14,
   "metadata": {},
   "outputs": [
    {
     "data": {
      "image/png": "[encoded data removed]",
      "text/plain": [
       "<Figure size 576x360 with 2 Axes>"
      ]
     },
     "metadata": {
      "needs_background": "light"
     },
     "output_type": "display_data"
    }
   ],
   "source": [
    "fig,ax1=plt.subplots(figsize=[8,5])\n",
    "ax1.semilogy(df_cases[df_cases['China']>0].index,\n",
    "         df_cases[df_cases['China']>0]['China'],'b')\n",
    "ax1.set_ylabel('Cases',color='b',fontsize=15)\n",
    "ax2=ax1.twinx()\n",
    "ax2.semilogy(df_deaths[df_cases['China']>0].index,\n",
    "         df_deaths[df_cases['China']>0]['China'],'r')\n",
    "ax2.set_ylabel('Deaths',color='r',fontsize=15)\n",
    "plt.gcf().autofmt_xdate()\n",
    "fig.tight_layout()\n",
    "plt.title('China (Log(Y))',fontsize=15)\n",
    "plt.show()\n"
   ]
  },
  {
   "cell_type": "code",
   "execution_count": 15,
   "metadata": {},
   "outputs": [
    {
     "name": "stdout",
     "output_type": "stream",
     "text": [
      "[8.14501647e+04 4.03689966e+01 2.22150089e-01]\n",
      "\n",
      " [[ 4.90899376e+04  8.13904503e+00 -3.11386548e-01]\n",
      " [ 8.13904503e+00  9.87186616e-03 -5.16273349e-05]\n",
      " [-3.11386548e-01 -5.16273349e-05  1.80669959e-05]]\n"
     ]
    }
   ],
   "source": [
    "from scipy.optimize import curve_fit\n",
    "def sigmoid(x, L ,x0, k):\n",
    "    y = L / (1 + np.exp(-k*(x-x0)))\n",
    "    return (y)\n",
    "\n",
    "xdata=df_cases[df_cases['China']>0].days\n",
    "ydata=df_cases[df_cases['China']>0]['China']\n",
    "'''p0 : array_like, optional\n",
    "    Initial guess for the parameters (length N).  If None, then the\n",
    "    initial values will all be 1 (if the number of parameters for the\n",
    "    function can be determined using introspection, otherwise a\n",
    "    ValueError is raised)'''\n",
    "p0 = [max(ydata), np.median(xdata),1] \n",
    "'''popt: Optimal values for the parameters so that the sum of the squared residuals of \n",
    "f(xdata, *popt) - ydata is minimized'''\n",
    "popt, pcov = curve_fit(sigmoid, xdata, ydata,p0,method='dogbox')\n",
    "print (popt)\n",
    "print ('\\n',pcov)"
   ]
  },
  {
   "cell_type": "code",
   "execution_count": 16,
   "metadata": {},
   "outputs": [
    {
     "data": {
      "image/png": "[encoded data removed]",
      "text/plain": [
       "<Figure size 432x288 with 1 Axes>"
      ]
     },
     "metadata": {
      "needs_background": "light"
     },
     "output_type": "display_data"
    }
   ],
   "source": [
    "plt.plot(xdata,ydata,'o',label='data')\n",
    "x=np.linspace(0,len(df_cases),len(df_cases))\n",
    "plt.plot(x,sigmoid(xdata, *popt),label='fit')\n",
    "plt.xlabel('Days Since first Incident')\n",
    "plt.ylabel('Counts')\n",
    "plt.title('Infection trend in China')\n",
    "plt.show()"
   ]
  },
  {
   "cell_type": "markdown",
   "metadata": {},
   "source": [
    "## Fitting US \"Cases\" data"
   ]
  },
  {
   "cell_type": "code",
   "execution_count": 17,
   "metadata": {},
   "outputs": [
    {
     "name": "stderr",
     "output_type": "stream",
     "text": [
      "C:\\Users\\plasm\\Anaconda3\\lib\\site-packages\\pandas\\core\\series.py:679: RuntimeWarning: overflow encountered in exp\n",
      "  result = getattr(ufunc, method)(*inputs, **kwargs)\n"
     ]
    },
    {
     "data": {
      "image/png": "[encoded data removed]",
      "text/plain": [
       "<Figure size 720x432 with 1 Axes>"
      ]
     },
     "metadata": {
      "needs_background": "light"
     },
     "output_type": "display_data"
    }
   ],
   "source": [
    "xdata1=df_cases[df_cases['United States']>0].days\n",
    "ydata1=df_cases[df_cases['United States']>0]['United States']\n",
    "p0 = [max(ydata1), np.median(xdata1),25] \n",
    "popt1, pcov1 = curve_fit(sigmoid, xdata1, ydata1,p0,method='dogbox')\n",
    "###########\n",
    "plt.figure(figsize=[10,6])\n",
    "x_pred=np.linspace(20,max(xdata1)*2,len(ydata1))\n",
    "x=np.linspace(20,max(xdata1),len(ydata1))\n",
    "plt.plot(xdata1,ydata1,'*',label='data')\n",
    "plt.plot(x,sigmoid(xdata1, *popt1),label='fit',linewidth=2)\n",
    "plt.plot(x_pred,sigmoid(x_pred, *popt1),label='Prediction3',linestyle='dashed')\n",
    "plt.xlabel('Days Since first Incident')\n",
    "plt.ylabel('Counts')\n",
    "plt.legend()\n",
    "plt.title('Infection trend in USA')\n",
    "plt.show()"
   ]
  },
  {
   "cell_type": "code",
   "execution_count": 18,
   "metadata": {},
   "outputs": [],
   "source": [
    "#Forecasting\n",
    "y=sigmoid(x_pred,*popt1 )\n"
   ]
  },
  {
   "cell_type": "code",
   "execution_count": 19,
   "metadata": {},
   "outputs": [
    {
     "data": {
      "text/plain": [
       "99.0"
      ]
     },
     "execution_count": 19,
     "metadata": {},
     "output_type": "execute_result"
    }
   ],
   "source": [
    "max(xdata1)"
   ]
  },
  {
   "cell_type": "code",
   "execution_count": 20,
   "metadata": {},
   "outputs": [
    {
     "data": {
      "text/html": [
       "<div>\n",
       "<style scoped>\n",
       "    .dataframe tbody tr th:only-of-type {\n",
       "        vertical-align: middle;\n",
       "    }\n",
       "\n",
       "    .dataframe tbody tr th {\n",
       "        vertical-align: top;\n",
       "    }\n",
       "\n",
       "    .dataframe thead th {\n",
       "        text-align: right;\n",
       "    }\n",
       "</style>\n",
       "<table border=\"1\" class=\"dataframe\">\n",
       "  <thead>\n",
       "    <tr style=\"text-align: right;\">\n",
       "      <th></th>\n",
       "      <th>x</th>\n",
       "      <th>y</th>\n",
       "    </tr>\n",
       "  </thead>\n",
       "  <tbody>\n",
       "    <tr>\n",
       "      <th>74</th>\n",
       "      <td>188.871795</td>\n",
       "      <td>545884.0</td>\n",
       "    </tr>\n",
       "    <tr>\n",
       "      <th>75</th>\n",
       "      <td>191.153846</td>\n",
       "      <td>545884.0</td>\n",
       "    </tr>\n",
       "    <tr>\n",
       "      <th>76</th>\n",
       "      <td>193.435897</td>\n",
       "      <td>545884.0</td>\n",
       "    </tr>\n",
       "    <tr>\n",
       "      <th>77</th>\n",
       "      <td>195.717949</td>\n",
       "      <td>545884.0</td>\n",
       "    </tr>\n",
       "    <tr>\n",
       "      <th>78</th>\n",
       "      <td>198.000000</td>\n",
       "      <td>545884.0</td>\n",
       "    </tr>\n",
       "  </tbody>\n",
       "</table>\n",
       "</div>"
      ],
      "text/plain": [
       "             x         y\n",
       "74  188.871795  545884.0\n",
       "75  191.153846  545884.0\n",
       "76  193.435897  545884.0\n",
       "77  195.717949  545884.0\n",
       "78  198.000000  545884.0"
      ]
     },
     "execution_count": 20,
     "metadata": {},
     "output_type": "execute_result"
    }
   ],
   "source": [
    "newj=pd.DataFrame({'x':x_pred,'y':np.round(y,0)})\n",
    "newj.tail()"
   ]
  },
  {
   "cell_type": "code",
   "execution_count": 21,
   "metadata": {},
   "outputs": [
    {
     "data": {
      "text/plain": [
       "[<matplotlib.lines.Line2D at 0x1426d660708>]"
      ]
     },
     "execution_count": 21,
     "metadata": {},
     "output_type": "execute_result"
    },
    {
     "data": {
      "image/png": "[encoded data removed]",
      "text/plain": [
       "<Figure size 432x288 with 1 Axes>"
      ]
     },
     "metadata": {
      "needs_background": "light"
     },
     "output_type": "display_data"
    }
   ],
   "source": [
    "plt.plot(newj.x,newj.y)"
   ]
  },
  {
   "cell_type": "code",
   "execution_count": 22,
   "metadata": {},
   "outputs": [
    {
     "data": {
      "text/html": [
       "<div>\n",
       "<style scoped>\n",
       "    .dataframe tbody tr th:only-of-type {\n",
       "        vertical-align: middle;\n",
       "    }\n",
       "\n",
       "    .dataframe tbody tr th {\n",
       "        vertical-align: top;\n",
       "    }\n",
       "\n",
       "    .dataframe thead th {\n",
       "        text-align: right;\n",
       "    }\n",
       "</style>\n",
       "<table border=\"1\" class=\"dataframe\">\n",
       "  <thead>\n",
       "    <tr style=\"text-align: right;\">\n",
       "      <th></th>\n",
       "      <th>x</th>\n",
       "      <th>y</th>\n",
       "    </tr>\n",
       "  </thead>\n",
       "  <tbody>\n",
       "    <tr>\n",
       "      <th>count</th>\n",
       "      <td>79.000000</td>\n",
       "      <td>79.000000</td>\n",
       "    </tr>\n",
       "    <tr>\n",
       "      <th>mean</th>\n",
       "      <td>109.000000</td>\n",
       "      <td>316098.291139</td>\n",
       "    </tr>\n",
       "    <tr>\n",
       "      <th>std</th>\n",
       "      <td>52.371295</td>\n",
       "      <td>257117.776393</td>\n",
       "    </tr>\n",
       "    <tr>\n",
       "      <th>min</th>\n",
       "      <td>20.000000</td>\n",
       "      <td>0.000000</td>\n",
       "    </tr>\n",
       "    <tr>\n",
       "      <th>25%</th>\n",
       "      <td>64.500000</td>\n",
       "      <td>633.000000</td>\n",
       "    </tr>\n",
       "    <tr>\n",
       "      <th>50%</th>\n",
       "      <td>109.000000</td>\n",
       "      <td>524502.000000</td>\n",
       "    </tr>\n",
       "    <tr>\n",
       "      <th>75%</th>\n",
       "      <td>153.500000</td>\n",
       "      <td>545883.000000</td>\n",
       "    </tr>\n",
       "    <tr>\n",
       "      <th>max</th>\n",
       "      <td>198.000000</td>\n",
       "      <td>545884.000000</td>\n",
       "    </tr>\n",
       "  </tbody>\n",
       "</table>\n",
       "</div>"
      ],
      "text/plain": [
       "                x              y\n",
       "count   79.000000      79.000000\n",
       "mean   109.000000  316098.291139\n",
       "std     52.371295  257117.776393\n",
       "min     20.000000       0.000000\n",
       "25%     64.500000     633.000000\n",
       "50%    109.000000  524502.000000\n",
       "75%    153.500000  545883.000000\n",
       "max    198.000000  545884.000000"
      ]
     },
     "execution_count": 22,
     "metadata": {},
     "output_type": "execute_result"
    }
   ],
   "source": [
    "newj.describe()"
   ]
  },
  {
   "cell_type": "code",
   "execution_count": 23,
   "metadata": {
    "scrolled": false
   },
   "outputs": [
    {
     "name": "stderr",
     "output_type": "stream",
     "text": [
      "C:\\Users\\plasm\\Anaconda3\\lib\\site-packages\\pandas\\core\\series.py:679: RuntimeWarning: overflow encountered in exp\n",
      "  result = getattr(ufunc, method)(*inputs, **kwargs)\n"
     ]
    },
    {
     "data": {
      "image/png": "[encoded data removed]",
      "text/plain": [
       "<Figure size 720x432 with 1 Axes>"
      ]
     },
     "metadata": {
      "needs_background": "light"
     },
     "output_type": "display_data"
    }
   ],
   "source": [
    "xdata1=df_cases[df_cases['United States']>0].days\n",
    "ydata1=df_cases[df_cases['United States']>0]['United States']\n",
    "popt, pcov = curve_fit(sigmoid, xdata1, ydata1,p0,method='dogbox')\n",
    "#popt2, pcov2 = curve_fit(sigmoid, xdata1, ydata1,p1,method='dogbox')\n",
    "###########\n",
    "plt.figure(figsize=[10,6])\n",
    "plt.plot(xdata1,ydata1,'o',label='data')\n",
    "x_pred=np.linspace(20,max(df_cases.days)*2,len(df_cases[df_cases['United States']>0]['United States']))\n",
    "x=np.linspace(20,max(df_cases.days),len(df_cases[df_cases['United States']>0]['United States']))\n",
    "#X_new=np.linspace(20,max(df_cases.days)*2,len(df_cases[df_cases['United States']>0]['United States']))\n",
    "plt.plot(x,sigmoid(xdata1, *popt),label='fit',linewidth=5)\n",
    "plt.plot(x_pred,sigmoid(x_pred, *popt),label='Prediction',linestyle='dashed')\n",
    "plt.axvline(114,ymin=0,ymax=1,label='Flattening day=114',color='red')\n",
    "plt.axvline(xdata[-1],ymin=0,ymax=1,label='current day= %g' %(xdata[-1]))\n",
    "plt.xlabel('Days Since first Incident')\n",
    "plt.ylabel('Counts')\n",
    "plt.legend()\n",
    "plt.title('Infection trend in USA')\n",
    "plt.show()"
   ]
  },
  {
   "cell_type": "markdown",
   "metadata": {},
   "source": [
    "## Fitting US 'Deaths' data: "
   ]
  },
  {
   "cell_type": "code",
   "execution_count": 24,
   "metadata": {},
   "outputs": [],
   "source": [
    "xdata1=df_deaths[df_deaths['United States']>0].days\n",
    "ydata1=df_deaths[df_deaths['United States']>0]['United States']\n",
    "p0 = [max(ydata1), np.median(xdata1),1] \n",
    "#p0 = [1000000,90,0.2]\n",
    "#p1 = [2500000,90,20]\n",
    "popt, pcov = curve_fit(sigmoid, xdata1, ydata1,p0,method='dogbox')"
   ]
  },
  {
   "cell_type": "code",
   "execution_count": 25,
   "metadata": {},
   "outputs": [
    {
     "data": {
      "image/png": "[encoded data removed]",
      "text/plain": [
       "<Figure size 720x432 with 1 Axes>"
      ]
     },
     "metadata": {
      "needs_background": "light"
     },
     "output_type": "display_data"
    }
   ],
   "source": [
    "plt.figure(figsize=[10,6])\n",
    "plt.plot(xdata1,ydata1,'o',label='data')\n",
    "x_pred=np.linspace(60,max(df_deaths.days)*2,len(df_deaths[df_deaths['United States']>0]['United States']))\n",
    "x=np.linspace(60,max(df_deaths.days),len(df_deaths[df_deaths['United States']>0]['United States']))\n",
    "X_new=np.linspace(20,max(df_cases.days)*2,len(df_cases[df_cases['United States']>0]['United States']))\n",
    "plt.plot(x,sigmoid(xdata1, *popt),label='fit',linewidth=5)\n",
    "plt.plot(x_pred,sigmoid(x_pred, *popt),label='Prediction',linestyle='dashed')\n",
    "plt.axvline(114,ymin=0,ymax=1,label='Flattening day=114',color='red')\n",
    "plt.axvline(xdata[-1],ymin=0,ymax=1,label='current day= %g' %(xdata[-1]))\n",
    "plt.xlabel('Days Since first Death')\n",
    "plt.ylabel('Counts')\n",
    "plt.legend()\n",
    "plt.title('Probable Death Count in USA ')\n",
    "plt.show()"
   ]
  },
  {
   "cell_type": "code",
   "execution_count": 27,
   "metadata": {},
   "outputs": [
    {
     "data": {
      "text/html": [
       "<div>\n",
       "<style scoped>\n",
       "    .dataframe tbody tr th:only-of-type {\n",
       "        vertical-align: middle;\n",
       "    }\n",
       "\n",
       "    .dataframe tbody tr th {\n",
       "        vertical-align: top;\n",
       "    }\n",
       "\n",
       "    .dataframe thead th {\n",
       "        text-align: right;\n",
       "    }\n",
       "</style>\n",
       "<table border=\"1\" class=\"dataframe\">\n",
       "  <thead>\n",
       "    <tr style=\"text-align: right;\">\n",
       "      <th></th>\n",
       "      <th>x</th>\n",
       "      <th>y</th>\n",
       "    </tr>\n",
       "  </thead>\n",
       "  <tbody>\n",
       "    <tr>\n",
       "      <th>34</th>\n",
       "      <td>183.473684</td>\n",
       "      <td>22873.0</td>\n",
       "    </tr>\n",
       "    <tr>\n",
       "      <th>35</th>\n",
       "      <td>187.105263</td>\n",
       "      <td>22873.0</td>\n",
       "    </tr>\n",
       "    <tr>\n",
       "      <th>36</th>\n",
       "      <td>190.736842</td>\n",
       "      <td>22873.0</td>\n",
       "    </tr>\n",
       "    <tr>\n",
       "      <th>37</th>\n",
       "      <td>194.368421</td>\n",
       "      <td>22873.0</td>\n",
       "    </tr>\n",
       "    <tr>\n",
       "      <th>38</th>\n",
       "      <td>198.000000</td>\n",
       "      <td>22873.0</td>\n",
       "    </tr>\n",
       "  </tbody>\n",
       "</table>\n",
       "</div>"
      ],
      "text/plain": [
       "             x        y\n",
       "34  183.473684  22873.0\n",
       "35  187.105263  22873.0\n",
       "36  190.736842  22873.0\n",
       "37  194.368421  22873.0\n",
       "38  198.000000  22873.0"
      ]
     },
     "execution_count": 27,
     "metadata": {},
     "output_type": "execute_result"
    }
   ],
   "source": [
    "y_deaths=sigmoid(x_pred,*popt)\n",
    "new_deaths=pd.DataFrame({'x':x_pred,'y':np.round(y_deaths,0)})\n",
    "new_deaths.tail()"
   ]
  },
  {
   "cell_type": "code",
   "execution_count": 28,
   "metadata": {},
   "outputs": [
    {
     "data": {
      "text/html": [
       "<div>\n",
       "<style scoped>\n",
       "    .dataframe tbody tr th:only-of-type {\n",
       "        vertical-align: middle;\n",
       "    }\n",
       "\n",
       "    .dataframe tbody tr th {\n",
       "        vertical-align: top;\n",
       "    }\n",
       "\n",
       "    .dataframe thead th {\n",
       "        text-align: right;\n",
       "    }\n",
       "</style>\n",
       "<table border=\"1\" class=\"dataframe\">\n",
       "  <thead>\n",
       "    <tr style=\"text-align: right;\">\n",
       "      <th></th>\n",
       "      <th>x</th>\n",
       "      <th>y</th>\n",
       "    </tr>\n",
       "  </thead>\n",
       "  <tbody>\n",
       "    <tr>\n",
       "      <th>count</th>\n",
       "      <td>39.000000</td>\n",
       "      <td>39.000000</td>\n",
       "    </tr>\n",
       "    <tr>\n",
       "      <th>mean</th>\n",
       "      <td>129.000000</td>\n",
       "      <td>16420.487179</td>\n",
       "    </tr>\n",
       "    <tr>\n",
       "      <th>std</th>\n",
       "      <td>41.406371</td>\n",
       "      <td>9676.107343</td>\n",
       "    </tr>\n",
       "    <tr>\n",
       "      <th>min</th>\n",
       "      <td>60.000000</td>\n",
       "      <td>2.000000</td>\n",
       "    </tr>\n",
       "    <tr>\n",
       "      <th>25%</th>\n",
       "      <td>94.500000</td>\n",
       "      <td>6754.000000</td>\n",
       "    </tr>\n",
       "    <tr>\n",
       "      <th>50%</th>\n",
       "      <td>129.000000</td>\n",
       "      <td>22863.000000</td>\n",
       "    </tr>\n",
       "    <tr>\n",
       "      <th>75%</th>\n",
       "      <td>163.500000</td>\n",
       "      <td>22873.000000</td>\n",
       "    </tr>\n",
       "    <tr>\n",
       "      <th>max</th>\n",
       "      <td>198.000000</td>\n",
       "      <td>22873.000000</td>\n",
       "    </tr>\n",
       "  </tbody>\n",
       "</table>\n",
       "</div>"
      ],
      "text/plain": [
       "                x             y\n",
       "count   39.000000     39.000000\n",
       "mean   129.000000  16420.487179\n",
       "std     41.406371   9676.107343\n",
       "min     60.000000      2.000000\n",
       "25%     94.500000   6754.000000\n",
       "50%    129.000000  22863.000000\n",
       "75%    163.500000  22873.000000\n",
       "max    198.000000  22873.000000"
      ]
     },
     "execution_count": 28,
     "metadata": {},
     "output_type": "execute_result"
    }
   ],
   "source": [
    "new_deaths.describe()"
   ]
  },
  {
   "cell_type": "code",
   "execution_count": null,
   "metadata": {},
   "outputs": [],
   "source": []
  }
 ],
 "metadata": {
  "kernelspec": {
   "display_name": "Python 3",
   "language": "python",
   "name": "python3"
  },
  "language_info": {
   "codemirror_mode": {
    "name": "ipython",
    "version": 3
   },
   "file_extension": ".py",
   "mimetype": "text/x-python",
   "name": "python",
   "nbconvert_exporter": "python",
   "pygments_lexer": "ipython3",
   "version": "3.7.6"
  }
 },
 "nbformat": 4,
 "nbformat_minor": 4
}
